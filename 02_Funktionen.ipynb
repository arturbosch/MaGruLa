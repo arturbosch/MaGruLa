{
 "cells": [
  {
   "cell_type": "markdown",
   "metadata": {},
   "source": [
    "# Funktionen"
   ]
  },
  {
   "cell_type": "markdown",
   "metadata": {},
   "source": [
    "- Funktionen\n",
    " - Notation und Terminologie\n",
    " - total und partiell\n",
    " - injektiv, surjektiv, bijektiv\n",
    " - Komposition\n",
    " - Identitätsfunktion\n",
    " - mehrstellige Funktionen\n",
    " - char. Funktion einer Teilmenge\n",
    " - Mengen von Funktionen\n",
    " - char. Funkt und Potenzmenge"
   ]
  },
  {
   "cell_type": "markdown",
   "metadata": {},
   "source": [
    "## Nützlicher Link\n",
    "\n",
    "Der [Wikipedia-Artikel zu Funktionen](https://de.wikipedia.org/wiki/Funktion_(Mathematik)) ist durchaus lesenswert, wenn man einen Überblick gewinnen und sich daran gewöhnen möchte, verschiedene Schreibweisen zu lesen. Besonders den Abschnitt [Notation](https://de.wikipedia.org/wiki/Funktion_(Mathematik)#Notation) sollte man einmal gelesen haben, da einem der Inhalt häufig begegnen wird."
   ]
  },
  {
   "cell_type": "markdown",
   "metadata": {},
   "source": [
    "## Funktionsbegriff, Existenz und Eindeutigkeit"
   ]
  },
  {
   "cell_type": "markdown",
   "metadata": {},
   "source": [
    "![Folie 36](Folien/02/slide-43.png)"
   ]
  },
  {
   "cell_type": "markdown",
   "metadata": {},
   "source": [
    "![Folie 37](Folien/02/slide-44.png)"
   ]
  },
  {
   "cell_type": "markdown",
   "metadata": {},
   "source": [
    "## Video zum Funktionsbegriff und zu partiellen und totalen Funktionen"
   ]
  },
  {
   "cell_type": "markdown",
   "metadata": {},
   "source": [
    "<video \n",
    " controls \n",
    " width=\"560\" \n",
    " height=\"315\" \n",
    " src=\"https://user.phil-fak.uni-duesseldorf.de/~petersen/WiSe1819_mathGrundl/Videos/02_09_partiell-total-Funktionsbegriff.mp4?autoplay=0\"></video>"
   ]
  },
  {
   "cell_type": "markdown",
   "metadata": {},
   "source": [
    "# Video zu Definitions- und Wertebereich, Domain und Range"
   ]
  },
  {
   "cell_type": "markdown",
   "metadata": {},
   "source": [
    "<video \n",
    " controls \n",
    " width=\"560\" \n",
    " height=\"315\" \n",
    " src=\"https://user.phil-fak.uni-duesseldorf.de/~petersen/WiSe1819_mathGrundl/Videos/02_10_Def-Werte.mp4?autoplay=0\"></video>"
   ]
  },
  {
   "cell_type": "markdown",
   "metadata": {},
   "source": [
    "## partielle und totale Funktionen"
   ]
  },
  {
   "cell_type": "markdown",
   "metadata": {},
   "source": [
    "![Folie 38](Folien/02/slide-45.png)"
   ]
  },
  {
   "cell_type": "markdown",
   "metadata": {},
   "source": [
    "## Injektivität, Surjektivität, Bijektivität"
   ]
  },
  {
   "cell_type": "markdown",
   "metadata": {},
   "source": [
    "![Folie 39](Folien/02/slide-48.png)"
   ]
  },
  {
   "cell_type": "markdown",
   "metadata": {},
   "source": [
    "## Video zu Funktionseigenschaften"
   ]
  },
  {
   "cell_type": "markdown",
   "metadata": {},
   "source": [
    "<video \n",
    " controls \n",
    " width=\"560\" \n",
    " height=\"315\" \n",
    " src=\"https://user.phil-fak.uni-duesseldorf.de/~petersen/WiSe1819_mathGrundl/Videos/02_11_Funktionseigenschaften.mp4?autoplay=0\"></video>"
   ]
  },
  {
   "cell_type": "markdown",
   "metadata": {},
   "source": [
    "Das Video deckt die Themen partielle und totale Funktion, Injektivität, Surjektivität und Bijektivität am Beispiel $f(x)=x+2$ ab. Folgende Abschnitte sind für die jeweiligen Themen interessant:\n",
    "\n",
    "$f : \\mathbb{N} \\to \\mathbb{N}$\n",
    "- 0:00-1:02 partiell/total\n",
    "- 1:03-2:18 injektiv\n",
    "- 2:19-4:20 surjektiv (Es gilt natürlich in dem Beispiel $x \\notin D, x \\notin \\mathbb{N}$.\n",
    "\n",
    "$f : \\mathbb{Z} \\to \\mathbb{Z}$\n",
    "- 4:21-5:27 Einführung, partiell/total\n",
    "- 5:28-5:41 injektiv\n",
    "- 5:42-6:53 surjektiv\n",
    "- 6:54-Ende bijektiv"
   ]
  },
  {
   "cell_type": "markdown",
   "metadata": {},
   "source": [
    "## Komposition von Funktionen"
   ]
  },
  {
   "cell_type": "markdown",
   "metadata": {},
   "source": [
    "![Folie 40](Folien/02/slide-49.png)"
   ]
  },
  {
   "cell_type": "markdown",
   "metadata": {},
   "source": [
    "![Folie 41](Folien/02/slide-50.png)"
   ]
  },
  {
   "cell_type": "markdown",
   "metadata": {},
   "source": [
    "![Folie 42](Folien/02/slide-51.png)"
   ]
  },
  {
   "cell_type": "markdown",
   "metadata": {},
   "source": [
    "![Folie 43](Folien/02/slide-52.png)"
   ]
  },
  {
   "cell_type": "markdown",
   "metadata": {},
   "source": [
    "Diese \"wenn...,sonst\"-Beschreibung einer Funktion mit geschweifter Klammer wird einem häufiger begegnen."
   ]
  },
  {
   "cell_type": "markdown",
   "metadata": {},
   "source": [
    "![Folie 44](Folien/02/slide-53.png)"
   ]
  },
  {
   "cell_type": "markdown",
   "metadata": {},
   "source": [
    "![Folie 45](Folien/02/slide-55.png)"
   ]
  },
  {
   "cell_type": "code",
   "execution_count": null,
   "metadata": {},
   "outputs": [],
   "source": []
  }
 ],
 "metadata": {
  "kernelspec": {
   "display_name": "Python 3",
   "language": "python",
   "name": "python3"
  },
  "language_info": {
   "codemirror_mode": {
    "name": "ipython",
    "version": 3
   },
   "file_extension": ".py",
   "mimetype": "text/x-python",
   "name": "python",
   "nbconvert_exporter": "python",
   "pygments_lexer": "ipython3",
   "version": "3.6.4"
  }
 },
 "nbformat": 4,
 "nbformat_minor": 2
}
