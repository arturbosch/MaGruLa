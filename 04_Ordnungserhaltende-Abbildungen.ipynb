{
 "cells": [
  {
   "cell_type": "markdown",
   "metadata": {},
   "source": [
    "# Ordnungserhaltende Abbildungen"
   ]
  },
  {
   "cell_type": "markdown",
   "metadata": {},
   "source": [
    "## Ordnungserhaltende Abbildungen"
   ]
  },
  {
   "cell_type": "markdown",
   "metadata": {},
   "source": [
    "![Folie 26](Folien/04/slide-26.png)"
   ]
  },
  {
   "cell_type": "markdown",
   "metadata": {},
   "source": [
    "Was passiert hier? Hier eine Schritt-für-Schritt-Erklärung der Definition. Wir haben zwei geordnete Mengen $(M,\\unlhd), (M',\\unlhd')$ gegeben und eine Funktion (Abbildung) $f : M \\to M'$, die die erste (geordnete) Menge $M$ als Definitionsbereich hat und die zweite (geordnete) Menge $M'$ als Wertebereich. \n",
    "Diese Abbildung $f$ ist ordnungserhaltend, wenn \n",
    "\n",
    "- ich zwei beliebige Elemente $x,y \\in M$ nehme\n",
    "- es in der ersten geordneten Menge gilt, dass $x \\unlhd y$\n",
    "- und daraus folgt, dass $f(x)\\unlhd' f(y)$. Anders gesagt, $f(x)=x'$ und $f(y)=y'$. Und wenn $x\\unlhd y$, dann auch $x'\\unlhd' y'$."
   ]
  },
  {
   "cell_type": "markdown",
   "metadata": {},
   "source": [
    "### Erläuterungen zu den Beispielen\n",
    "\n",
    "$f:\\mathbb{N}_0\\to\\mathbb{N}_0$ mit $f(x)=2x$ als Abbildung von $(\\mathbb{N}_0,\\leq)$ nach $(\\mathbb{N}_0,\\leq)$. Sei $x,y \\in \\mathbb{N}_0$ mit $x=3,y=4$. Es gilt: $x \\leq y$ und $f(x)\\leq f(y) \\leftrightarrow 6\\leq 8$. $f$ ist hier also eine ordnungserhaltende Abbildung. Es gibt nämlich keine $x,y$, für die $x\\leq y$ gilt, aber $f(x)\\leq f(y)$ nicht.\n",
    "\n",
    "$f:\\mathbb{Z} \\to \\mathbb{Z}$ mit $f(x)=x^2$ als Abbildung von $(\\mathbb{Z},\\leq)$ nach $(\\mathbb{Z},\\leq)$ ist nicht ordnungserhaltend. Hier ist ein Beispiel, das die Ordnung durcheinanderbringt: Für $x,y\\in \\mathbb{Z}$ mit $x=-6,y=2$ gilt natürlich $x \\leq y$. Es gilt aber nicht $f(x) \\leq f(y)$, denn $f(x)=36$ und $f(y)=4$."
   ]
  },
  {
   "cell_type": "markdown",
   "metadata": {},
   "source": [
    "## Ordnungseinbettung, -isomorphismus, -automorphismus\n",
    "\n",
    "Hinweis: Die Begriffe *injektiv* und *bijektiv* hatten wir [hier](02_Funktionen.ipynb#Injektivität,-Surjektivität,-Bijektivität) eingeführt."
   ]
  },
  {
   "cell_type": "markdown",
   "metadata": {},
   "source": [
    "![Folie 27](Folien/04/slide-27.png)"
   ]
  },
  {
   "cell_type": "markdown",
   "metadata": {},
   "source": [
    "Erläuterung der Beispiele Folie 23. **Video**\n",
    "\n",
    "Was ist mit den Beispielen von Folie 22?"
   ]
  },
  {
   "cell_type": "markdown",
   "metadata": {},
   "source": [
    "## Quasiordnung"
   ]
  },
  {
   "cell_type": "markdown",
   "metadata": {},
   "source": [
    "![Folie 28](Folien/04/slide-28.png)"
   ]
  },
  {
   "cell_type": "markdown",
   "metadata": {},
   "source": [
    "Quasiordnungen erfüllen also, im Gegensatz zu schwachen Ordnungen, nicht die Eigenschaft der Antisymmetrie. In einer Quasiordnung $(M,\\unlhd)$ kann es also zwei Elemente $x,y$ geben, sodass $x\\unlhd y$ und $y \\unlhd x$, aber $x \\neq y$. Merke: Alle schwachen Ordnungen sind Quasiordnungen, da alle schwachen Ordnungen (unter anderem) reflexiv und transitiv sind. \n",
    "\n",
    "### Ein weiteres Beispiel\n",
    "\n",
    "Wir hatten bereits häufiger die Relation $\\leq$ auf $\\mathbb{N}$ betrachtet. Betrachten wir nun $\\leq_{abr}$ auf $\\mathbb{R}$. Diese Relation nimmt zwei reelle Zahlen, rundet sie zur nächstkleineren ganzen Zahl ab und vergleicht sie dann. Beispiel: $\\pi \\leq_{abr} 3.010101$, da $3 \\leq_{abr} 3$. Es gilt aber auch $3.010101 \\leq_{abr} \\pi$, da $3 \\leq_{abr} 3$. Da also gilt $\\pi \\leq_{abr} 3.010101$ und $3.010101 \\leq_{abr} \\pi$, aber $\\pi \\neq 3.010101$, ist diese Relation nicht antisymmetrisch.\n"
   ]
  },
  {
   "cell_type": "markdown",
   "metadata": {},
   "source": [
    "## Zusammenfassende Folien"
   ]
  },
  {
   "cell_type": "markdown",
   "metadata": {},
   "source": [
    "![Folie 29](Folien/04/slide-29.png)\n",
    "![Folie 30](Folien/04/slide-30.png)"
   ]
  },
  {
   "cell_type": "code",
   "execution_count": null,
   "metadata": {},
   "outputs": [],
   "source": []
  }
 ],
 "metadata": {
  "kernelspec": {
   "display_name": "Python 3",
   "language": "python",
   "name": "python3"
  },
  "language_info": {
   "codemirror_mode": {
    "name": "ipython",
    "version": 3
   },
   "file_extension": ".py",
   "mimetype": "text/x-python",
   "name": "python",
   "nbconvert_exporter": "python",
   "pygments_lexer": "ipython3",
   "version": "3.6.4"
  }
 },
 "nbformat": 4,
 "nbformat_minor": 2
}
