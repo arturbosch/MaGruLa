{
 "cells": [
  {
   "cell_type": "markdown",
   "metadata": {},
   "source": [
    "# Wahrscheinlichkeit"
   ]
  },
  {
   "cell_type": "markdown",
   "metadata": {},
   "source": [
    "## Zufallsexperimente"
   ]
  },
  {
   "cell_type": "markdown",
   "metadata": {},
   "source": [
    "![Folie 1](Folien/08/slide-02.png)"
   ]
  },
  {
   "cell_type": "markdown",
   "metadata": {},
   "source": [
    "Was meint der erste Stichpunkt? Nehmen wir das Beispiel automatische syntaktische Analyse eines deutschen Satzes (sprich: Parsing). Es ist auch für große Anwendungen nicht realistisch, ALLE Regeln der deutschen Syntax und deren Zusammenspiel zu implementieren. Dazu kommt, dass viele große NLP-Systeme für einen Satz mehrere mögliche Strukturen (z.B. Parse-Bäume) finden werden. Die Wahrscheinlichkeitstheorie brauchen wir also, um formal sagen zu können: Diese Struktur hat einen höheren Wert als jene, weil sie eine größere Wahrscheinlichkeit hat.\n",
    "\n",
    "Der zweite Stichpunkt meint im einfachsten Fall: Beim Würfeln/Münze werfen/Mensch-ärgere-dich-nicht gibt es nur eine endliche Menge möglicher Ereignisse: 1 gewürfelt/Kopf/Blau würfelt 4."
   ]
  },
  {
   "cell_type": "markdown",
   "metadata": {},
   "source": [
    "![Folie 1](Folien/08/slide-04.png)"
   ]
  },
  {
   "cell_type": "markdown",
   "metadata": {},
   "source": [
    "Für Interessierte: Die Erläuterung abzählbarer Mengen findet sich [hier](https://de.wikipedia.org/wiki/Abz%C3%A4hlbare_Menge)."
   ]
  },
  {
   "cell_type": "markdown",
   "metadata": {},
   "source": [
    "![Folie 1](Folien/08/slide-05.png)"
   ]
  },
  {
   "cell_type": "markdown",
   "metadata": {},
   "source": [
    "Wir ordnen also jedem Ergebnis bzw. Elementarereignis eine Wahrscheinlichkeit zu. Beispiel Würfeln mit einem fairen Würfel:\n",
    "\n",
    "$e1=\\{1\\}, e2=\\{2\\}$ usw.\n",
    "\n",
    "$P(e1)=P(e2)=...=P(e6)=\\frac{1}{6}$\n",
    "\n",
    "Die Wahrscheinlichkeit des Ereignisses \"gerade Zahl\" $eg=e2 \\cup e4 \\cup e6 = \\{2,4,6\\}$ ist also gleich $P(eg)=\\frac{1+1+1}{6}=0.5$\n",
    "\n",
    "Ungerade Zahl als Gegenereignnis zu gerade Zahl: Das Gegenereignis zu \"gerade Zahl\" $eu$ ist das Komplement in $\\Omega$ des Ereignisses \"gerade Zahl\".\n",
    "\n",
    "$eu= \\Omega \\setminus eg = \\{1,3,5\\}$"
   ]
  },
  {
   "cell_type": "markdown",
   "metadata": {},
   "source": [
    "![Folie 1](Folien/08/slide-06.png)"
   ]
  },
  {
   "cell_type": "markdown",
   "metadata": {},
   "source": [
    "Die Vereinigung der Ereignisse Summe 1, Summe 2, $\\dots$, Summe 12 gibt also $\\Omega=\\{1-1,1-2,1-3,1-4,1-5,1-6,2-1,2-2,\\dots,6-6\\}$. Hierbei gilt natürlich: $1-3$ bezeichnet das Ereignis \"erst 1, dann 3\". Es gilt außerdem: $|\\Omega|=6*6=36$, und jedes Elementarereignis $e\\in\\Omega$ hat Wahrscheinlichkeit $P(e)=\\frac{1}{36}$."
   ]
  },
  {
   "cell_type": "markdown",
   "metadata": {},
   "source": [
    "## Diskrete Wahrscheinlichkeitsräume"
   ]
  },
  {
   "cell_type": "markdown",
   "metadata": {},
   "source": [
    "![Folie 1](Folien/08/slide-07.png)"
   ]
  },
  {
   "cell_type": "markdown",
   "metadata": {},
   "source": [
    "Warum ist $P$ eine Funktion von ${POT}(\\Omega)$ nach $\\mathbb{R}$, die die auf der Folie genannten Eigenschaften erfüllt?\n",
    "$P$ ordnet jedem möglichen Ereignis, das man mit $\\Omega$ bilden kann, eine Wahrscheinlichkeit im Intervall $[0;1]$ zu.\n",
    "\n",
    "Alle möglichen Ereignisse bei einem Experiment sind Elemente von $Pot(\\Omega)$. Beispiel zweimaliges Werfen einer Münze: $\\Omega=\\{KK,KZ,ZK,ZZ\\}$. $Pot(\\Omega)=\\{\\emptyset,\\{KK\\},\\{KZ\\},\\{ZK\\},\\{ZZ\\},\\{KK,KZ\\},\\{KK,ZK\\},\\{KK,ZZ\\},\\dots,\\Omega\\}$. So ist sowohl das \"leere Ereignis\" $\\emptyset$ abgedeckt, als auch das Ereignis $\\Omega$ sowie alle Kombinationen aus einem oder mehr Ergebnissen.\n",
    "Aus Punkt 2.3 auf der Folie folgt, dass $P(\\emptyset)=0$.\n",
    "Man kann sich diesen Punkt wie folgt anschaulich machen: Erst ordnen wir jedem der Ergebnisse $\\{KK\\},\\{KZ\\},\\{ZK\\},\\{ZZ\\}$ eine Wahrscheinlichkeit zu. Die kennen wir: bei fairen Münzen ist das jeweils $\\frac{1}{4}$. $\\{KK\\}$ und $\\{KZ\\}$ sind paarweise disjunkt, und deshalb gilt: $P(\\{KK\\}\\cup\\{KZ\\})=P(\\{\\{KK\\},\\{KZ\\}\\})=P(\\{KK\\}+P\\{KZ\\})=\\frac{1}{2}$\n",
    "\n",
    "Da z.B. $P(\\Omega)=P(\\{KK,KZ,ZK,ZZ\\})=P(\\{KK\\})+P(\\{KZ\\})+P(\\{ZK\\})+P(\\{ZZ\\})=\\frac{1}{4}*4=1$ und $P(\\{KK\\})=P(\\{KK\\}\\cup \\emptyset) = \\frac{1}{4}$, muss $P(\\emptyset)=0$ sein."
   ]
  },
  {
   "cell_type": "markdown",
   "metadata": {},
   "source": [
    "![Folie 1](Folien/08/slide-08.png)"
   ]
  },
  {
   "cell_type": "markdown",
   "metadata": {},
   "source": [
    "Punkt 1 und 2 sind oben schon erläutert. Was bedeutet \"Tertium non datur\"? Wörtlich übersetzt: Das dritte ist nicht gegeben. Es tritt entweder $A$ oder das Gegenereignis zu $A$, $\\overline{A}=\\Omega\\setminus A$ ein. $A\\cup\\overline{A}=\\Omega$ und $P(\\Omega)=1$.\n",
    "\n",
    "Punkt 4: Ereignis $A$ impliziert Ereignis $B$ bedeutet: Wer A sagt, muss auch B sagen bzw. Wenn $A$ eintritt, tritt auch $B$ ein. Beispiel Zweimal Münze werfen: $A=\\{KK\\}, B=\\{KK,ZZ\\}$ und $A \\subseteq B$. $P(B\\setminus A)=P(\\{ZZ\\})=P(B)-P(A)=\\frac{1}{2}-\\frac{1}{4}=\\frac{1}{4}$. "
   ]
  },
  {
   "cell_type": "markdown",
   "metadata": {},
   "source": [
    "![Folie 1](Folien/08/slide-10.png)"
   ]
  },
  {
   "cell_type": "markdown",
   "metadata": {},
   "source": [
    "![Folie 1](Folien/08/slide-11.png)"
   ]
  },
  {
   "cell_type": "markdown",
   "metadata": {},
   "source": [
    "Die zweite Folie ist besser, denn hier gilt: $P(\\Omega)=0.09+0.36+0.25+0.3=1$. Es handelt sich also um einen \"guten\" Wahrscheinlichkeitsraum."
   ]
  },
  {
   "cell_type": "code",
   "execution_count": null,
   "metadata": {},
   "outputs": [],
   "source": []
  }
 ],
 "metadata": {
  "kernelspec": {
   "display_name": "Python 3",
   "language": "python",
   "name": "python3"
  },
  "language_info": {
   "codemirror_mode": {
    "name": "ipython",
    "version": 3
   },
   "file_extension": ".py",
   "mimetype": "text/x-python",
   "name": "python",
   "nbconvert_exporter": "python",
   "pygments_lexer": "ipython3",
   "version": "3.6.4"
  }
 },
 "nbformat": 4,
 "nbformat_minor": 2
}
