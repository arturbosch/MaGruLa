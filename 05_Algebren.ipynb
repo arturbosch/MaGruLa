{
 "cells": [
  {
   "cell_type": "markdown",
   "metadata": {},
   "source": [
    "## Begriffe, die in diesem Skript erklärt werden"
   ]
  },
  {
   "cell_type": "markdown",
   "metadata": {},
   "source": [
    "- Algebren\n",
    "- Eigenschaften von Operationen\n",
    "- neutrale und inverse Elemente"
   ]
  },
  {
   "cell_type": "markdown",
   "metadata": {},
   "source": [
    "# Algebren"
   ]
  },
  {
   "cell_type": "markdown",
   "metadata": {},
   "source": [
    "![Folie 114](Folien/05/slide-04.png)"
   ]
  },
  {
   "cell_type": "markdown",
   "metadata": {},
   "source": [
    "Zur Erklärung: $\\oplus$ stellt hier eine beliebige Relation dar. Dies könnte beispielsweise $+$, $\\cap$ oder eine andere Operation sein.\n",
    "\n",
    "Dieses \"Menge A zusammen mit Operationen\" notiert man meistens als Tupel, ähnlich wie geordnete Mengen. Es kann aber mehrere Operationen geben. Also: Eine Algebra ist ein Tupel $\\langle M, f_1,\\dots,f_2\\rangle$ aus einer Menge $M$ und binärer Funktionen $f_1,\\dots,f_n$ mit $f_i : M \\to M$ und $i \\in \\{1,\\dots,n\\}$. Es gibt natürlich auch Algebren mit nicht-binären Funktionen, die interessieren uns hier aber nicht.\n",
    "\n",
    "Was bedeutet die Bedingung der **Abgeschlossenheit**? Gegeben eine Algebra $\\langle M, \\oplus\\rangle$. Egal, welche zwei Elemente $a,b\\in M$ man auswählt, $a\\oplus b = c$ und $c\\in M$. Eine Algebra mit mehreren Operationen muss unter all diesen Operationen abgeschlossen sein.\n",
    "\n",
    "Was bedeutet **Eindeutigkeit**? Jedem Element $a\\in M$ bzw. jeden zwei Elementen $a, b\\in M$ wird von $\\oplus$ nicht mehr als 1 Element in $M$ zugeordnet. Also genau die Eindeutigkeitsbedingung, die wir auch in der [Definition für Funktionen](02_Funktionen.ipynb#Funktionsbegriff,-Existenz-und-Eindeutigkeit) finden. "
   ]
  },
  {
   "cell_type": "markdown",
   "metadata": {},
   "source": [
    "## Eigenschaften von Operationen\n",
    "\n",
    "Diese Gesetze kennen wir schon als [Gesetze für Mengenoperationen](01_Mengenoperationen.ipynb#Gesetze-zu-Schnitt-und-Vereinigung)"
   ]
  },
  {
   "cell_type": "markdown",
   "metadata": {},
   "source": [
    "![Folie 115](Folien/05/slide-05.png)"
   ]
  },
  {
   "cell_type": "markdown",
   "metadata": {},
   "source": [
    "Um zu zeigen, dass eins der Gesetze für eine Algebra nicht gilt, findet man ein entsprechendes Gegenbeispiel. \n",
    "Um zu zeigen, dass ein Gesetz für eine Algebra gilt, müsste man eigentlich einen formalen Beweis durchführen. Uns soll es aber fürs Erste genügen, das Gesetz anschaulich zu machen (z.B. mit Venn-Diagrammen bei Mengenoperationen). \n",
    "\n",
    "Achtung: Die ersten drei Gesetze beschäftigen sich mit einer einzelnen Operation. Um Aussagen über das Distributivgesetz treffen zu können, brauchen wir eine Algebra mit mindestens 2 Operationen."
   ]
  },
  {
   "cell_type": "markdown",
   "metadata": {},
   "source": [
    "## neutrale und inverse Elemente\n",
    "\n",
    "Die Begriffe [neutral](01_Mengenoperationen.ipynb#Neutrale-Elemente) und [invers](02_Relationen.ipynb#Inverse-und-Komplement) kennen wir schon. Die Definitionen wenden wir auf Algebren an:"
   ]
  },
  {
   "cell_type": "markdown",
   "metadata": {},
   "source": [
    "![Folie 116](Folien/05/slide-06.png)"
   ]
  },
  {
   "cell_type": "markdown",
   "metadata": {},
   "source": [
    "Achtung beim inversen Element: Bei [inversen Relationen](02_Relationen.ipynb#Inverse-und-Komplement) hatten wir die Reihenfolge in den Tupeln \"vertauscht\". Die inversen Elemente von Algebren verhalten sich ein wenig anders. Das inverse Element $a^{-1}$ eines Elements $a$ ist das Element, das man (egal in welcher Reihenfolge) mit $a$ verknüpft und das neutrale Element erhält: $a\\oplus a^{-1}=a^{-1}\\oplus a = e$, wenn $e$ das neutrale Element ist.\n",
    "\n"
   ]
  },
  {
   "cell_type": "markdown",
   "metadata": {},
   "source": [
    "### Video neutrale und inverse Elemente am Beispiel von $(Pot(M),\\cap)$ und $(Pot(M),\\cup)$"
   ]
  },
  {
   "cell_type": "markdown",
   "metadata": {},
   "source": [
    "<video \n",
    " controls \n",
    " width=\"560\" \n",
    " height=\"315\" \n",
    " src=\"https://user.phil-fak.uni-duesseldorf.de/~petersen/magrula/videos/05_01_neutral-invers-Pot.mp4?autoplay=0\"></video>"
   ]
  },
  {
   "cell_type": "markdown",
   "metadata": {},
   "source": [
    "**Anmerkungen zum Video**\n",
    "\n",
    "- neutrales Element des Schnitts: $x$ muss natürlich aus $Pot(M)$ sein!\n",
    "- bei den inversen Elementen zum Schnitt ist ein Fehler im Video: $\\{1,2\\}^{-1}=\\{1,2\\}$, da $\\{1,2\\}\\cap\\{1,2\\}=\\{1,2\\}$. Somit gilt im Allgemeinen: Das inverse Element von $M$ für die Schnittoperation ist $M^{-1} = M$. Für alle weiteren Elemente von $Pot(M)$ ist sie nicht definiert."
   ]
  },
  {
   "cell_type": "markdown",
   "metadata": {},
   "source": [
    "## Beispiele zu Algebren"
   ]
  },
  {
   "cell_type": "markdown",
   "metadata": {},
   "source": [
    "### Video zum Beispiel \"Drehung gleichseitiger Dreiecke\""
   ]
  },
  {
   "cell_type": "markdown",
   "metadata": {},
   "source": [
    "<video \n",
    " controls \n",
    " width=\"560\" \n",
    " height=\"315\" \n",
    " src=\"https://user.phil-fak.uni-duesseldorf.de/~petersen/magrula/videos/05_02_Dreieck.mp4?autoplay=0\"></video>"
   ]
  },
  {
   "cell_type": "markdown",
   "metadata": {},
   "source": [
    "- 0:00-1:24: Erläuterung der Aufgabe\n",
    "- 1:25-3:30: Erstellung der Tabelle (Prüfung Abgeschlossenheit und Eindeutigkeit)\n",
    "- 3:35-4:20: neutrales Element\n",
    "- 4:20-5:40: inverse Elemente\n",
    "- 5:40-Ende: Eigenschaften  "
   ]
  },
  {
   "cell_type": "markdown",
   "metadata": {},
   "source": [
    "### Restklassen \n",
    "\n",
    "![Folie 119](Folien/05/slide-15.png)\n",
    "\n",
    "Erläuterung: \n",
    "Wir beschäftigen uns hier mit Restklassen natürlicher Zahlen bei der Division durch 3. $[n]$ ist also die Menge aller Zahlen in $\\mathbb{N}_0$, deren Division durch $3$ den Rest $n$ ergibt. Beispiel:\n",
    "\n",
    "$[1]$ sind alle Zahlen, deren Division durch $3$ den Rest $1$ ergibt. $[1]=\\{n \\in \\mathbb{N}_0 | n\\text{ mod }3=1\\} =  \\{1,4,7,10,13,\\dots\\}$\n",
    "\n",
    "Die Tabelle ist wie folgt zu verstehen: $[0]\\oplus_3[0]=[0]$, denn wenn man zwei Zahlen addiert, die ohne Rest durch drei teilbar sind, erhält man immer eine Zahl, die durch drei teilbar ist. Beispiel: $3+6=9$. \n",
    "\n",
    "Oder $[2]\\oplus_3[1]=[1]\\oplus_3[2]=[0]$, denn wenn man eine Zahl, die durch 3 mit Rest 1 teilbar ist, und eine Zahl, die durch 3 mit Rest 2 teilbar ist, erhält man eine Zahl, die glatt durch 3 teilbar ist. Beispiel: $4+8=12; 4\\text{ mod }3=1, 8\\text{ mod }3=2,12\\text{ mod }3=0$ "
   ]
  },
  {
   "cell_type": "markdown",
   "metadata": {},
   "source": [
    "Das neutrale Element ist $[0]$, das bedeutet: Addiert man eine Zahl $x$, die mit Rest $a$ durch 3 teilbar ist, und eine Zahl $y$, die glatt durch drei teilbar ist, erhält man eine Zahl, die mit Rest $a$ durch 3 teilbar ist. \n",
    "\n",
    "Die inversen Elemente erhält man, indem man Werte aus der Tabelle in die Definition der inversen Elemente einsetzt:\n",
    "\n",
    "$[0]^{-1}=[0]$, da $[0]\\oplus_3[0]=[0]$.\n",
    "\n",
    "$[1]^{-1}=[2]$, da $[1]\\oplus_3[2]=[2]\\oplus_3[1]=[0]$.\n",
    "\n",
    "$[2]^{-1}=[1]$, da $[2]\\oplus_3[1]=[1]\\oplus_3[2]=[0]$."
   ]
  },
  {
   "cell_type": "markdown",
   "metadata": {},
   "source": [
    "$\\oplus_3$ ist assoziativ und kommutativ, da es nicht auf die Reihenfolgen ankommt, in denen man zwei oder mehr Elemente mit $\\oplus_3$ verknüpft:\n",
    "\n",
    "Assoziativgesetz: $[0]\\oplus([0]\\oplus[1])=([0]\\oplus[1])\\oplus[0]$, usw. für alle anderen Elemente aus $\\{[0],[1],[2]\\}$\n",
    "\n",
    "Kommutativgesetz: $[0]\\oplus[1]=[1]\\oplus[0]$, usw. für alle anderen Elemente aus $\\{[0],[1],[2]\\}$\n",
    "\n",
    "Es ist Euch wahrscheinlich schnell aufgefallen, dass sich dieses Beispiel äquivalent zum Beispiel \"Drehung gleichseitiger Dreicke\" verhält. \n",
    " "
   ]
  }
 ],
 "metadata": {
  "kernelspec": {
   "display_name": "Python 3",
   "language": "python",
   "name": "python3"
  },
  "language_info": {
   "codemirror_mode": {
    "name": "ipython",
    "version": 3
   },
   "file_extension": ".py",
   "mimetype": "text/x-python",
   "name": "python",
   "nbconvert_exporter": "python",
   "pygments_lexer": "ipython3",
   "version": "3.6.4"
  }
 },
 "nbformat": 4,
 "nbformat_minor": 2
}
