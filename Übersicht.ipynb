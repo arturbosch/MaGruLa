{
 "cells": [
  {
   "cell_type": "markdown",
   "metadata": {},
   "source": [
    "# Übersicht"
   ]
  },
  {
   "cell_type": "markdown",
   "metadata": {},
   "source": [
    "## Inhaltsverzeichnis\n",
    "\n",
    "1. Mengen und Mengenoperationen\n",
    " - [Mengen](./01_Mengen.ipynb)\n",
    " - [Mengenoperationen](./01_Mengenoperationen.ipynb)\n",
    "2. Relationen und Funktionen\n",
    " - [Relationen](./02_Relationen.ipynb) (Tupel, Cartesisches Produkt, Eigenschaften von Relationen)\n",
    "3. Formale Sprachen\n",
    "4. Ordnungsrelationen\n",
    "5. Algebren\n",
    "6. Graphen und Bäume\n",
    "7. Beweise\n",
    "8. Kombinatorik\n",
    "9. Wahrscheinlichkeitstheorie\n",
    "10. Grundlagen der Analysis\n",
    "11. Grundlagen der linearen Algebra\n"
   ]
  },
  {
   "cell_type": "markdown",
   "metadata": {},
   "source": [
    "## Nützliche Links\n",
    "\n",
    "- [Das griechische Alphabet](https://www.mat.univie.ac.at/~huyer/griechalph.pdf) wird häufig verwendet, um Dinge in der Mathematik, Logik, Informatik... zu beschreiben. "
   ]
  },
  {
   "cell_type": "markdown",
   "metadata": {},
   "source": [
    "## Warum Mathe?\n",
    "\n",
    "> \"Science. Essentially maths disguised as dinosaurs and outer space to try and seem interesting.\" (John Oliver)\n",
    "\n",
    "Wir brauchen also ein bisschen Mathematik, um sauber beschreiben zu können, was wir in der Computerlinguistik tun."
   ]
  }
 ],
 "metadata": {
  "kernelspec": {
   "display_name": "Python 3",
   "language": "python",
   "name": "python3"
  },
  "language_info": {
   "codemirror_mode": {
    "name": "ipython",
    "version": 3
   },
   "file_extension": ".py",
   "mimetype": "text/x-python",
   "name": "python",
   "nbconvert_exporter": "python",
   "pygments_lexer": "ipython3",
   "version": "3.6.4"
  }
 },
 "nbformat": 4,
 "nbformat_minor": 2
}
