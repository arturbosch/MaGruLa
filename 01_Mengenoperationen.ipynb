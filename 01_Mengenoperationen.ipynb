{
 "cells": [
  {
   "cell_type": "markdown",
   "metadata": {},
   "source": [
    "# Mengenoperationen"
   ]
  },
  {
   "cell_type": "markdown",
   "metadata": {},
   "source": [
    "## Was sind denn überhaupt Operationen?\n",
    "\n",
    "Operationen ordnen einer festgelegten Anzahl von Argumenten ein Ergebnis zu. \n",
    "Zum Beispiel ist die Addition eine arithmetische Operation mit 2 Argumenten: $5+3=8$. \n",
    "Die beiden Argumente sind $5$ und $3$, das Ergebnis ist $8$. \n",
    "Weil die Addition 2 Argumente nimmt, nennt man sie eine *binäre* Operation. \n",
    "\n",
    "Es gibt auch einige wichtige Operationen in der Mengenlehre. Diese Mengenoperationen werden wir uns hier ansehen."
   ]
  },
  {
   "cell_type": "markdown",
   "metadata": {},
   "source": [
    "## Die Potenzmengenoperation"
   ]
  },
  {
   "cell_type": "markdown",
   "metadata": {},
   "source": [
    "Die Definition der Potenzmengenoperation läuft in 2 Schritten ab. \n",
    "Erst wird definiert, was die Potenzmenge überhaupt ist, dann wird die entsprechende Operation festgelegt. \n",
    "\n",
    "\n",
    "Die Potenzmenge einer Menge $M$ ist die Menge aller möglichen Teilmengen von $M$. \n",
    "Die Potenzmenge ist also eine Menge von Mengen. \n",
    "Zur Erinnerung: Eine Menge N ist eine Teilmenge von M, wenn alle Elemente aus N auch in M sind. \n",
    "Jede Menge hat genau eine Potenzmenge. \n",
    "\n",
    "Die Potenzmengenoperation ist die Operation, die jeder Menge ihre Potenzmenge zuordnet. \n",
    "Man braucht diese Operation, damit man ein Symbol hat, mit dem man sich immer auf die Potenzmenge einer Menge beziehen kann. Wir verwenden die Notation $\\mathcal{POT}(M)$."
   ]
  },
  {
   "cell_type": "markdown",
   "metadata": {},
   "source": [
    "Ein paar Beispiele: \n",
    "\n",
    "1. $\\mathcal{POT}(\\{1\\})=\\{\\emptyset,\\{1\\}\\}$\n",
    "2. $\\mathcal{POT}(\\{1,2\\})=\\{\\emptyset,\\{1\\},\\{2\\},\\{1,2\\}\\}$\n",
    "3. $\\mathcal{POT}(\\{1,2,3\\})=\\{\\emptyset,\\{1\\},\\{2\\},\\{3\\},\\{1,2\\},\\{1,3\\},\\{2,3\\},\\{1,2,3\\}\\}$\n",
    "\n",
    "Wichtig dabei: Die leere Menge $\\emptyset$ ist Teilmenge jeder Menge.\n",
    "Alle Elemente der leeren Menge (nämlich gar keine) sind in jeder anderen Menge enthalten.\n",
    "Deshalb ist die leere Menge Element jeder Potenzmenge.\n"
   ]
  },
  {
   "cell_type": "markdown",
   "metadata": {},
   "source": [
    "## Die Mächtigkeit der Potenzmenge\n",
    "\n",
    "Die Mächtigkeit einer Menge ist die Anzahl der Elemente der Potenzmenge (siehe das Ende des Skripts zu Mengen). \n",
    "\n",
    "Jetzt können wir für die Mächtigkeit der Potenzmenge eine Beobachtung machen: Wenn eine Menge M n Elemente hat, hat die Potenzmenge von M $2^n$ Elemente: \n",
    "\n",
    "$$|\\mathcal{POT}(M)|=2^{|M|}$$\n",
    "\n",
    "Im Video wird dieser Zusammenhang näher erläutert. Es empfiehlt sich, das einmal an einem kleinen Beispiel selbst nachzurechnen. \n",
    "Wenn man weiß, wie viele Elemente die Potenzmenge haben muss, kann man einfach nachrechnen, ob man sie richtig gebildet hat. \n",
    "\n"
   ]
  },
  {
   "cell_type": "markdown",
   "metadata": {},
   "source": [
    "<video \n",
    " controls \n",
    " width=\"560\" \n",
    " height=\"315\" \n",
    " src=\"https://user.phil-fak.uni-duesseldorf.de/~petersen/WiSe1819_mathGrundl/Videos/01_03_Potenmengen.mp4?autoplay=0\">\n",
    "</video>"
   ]
  },
  {
   "cell_type": "markdown",
   "metadata": {},
   "source": [
    "## Schnitt, Vereinigung, Differenz, Komplement"
   ]
  },
  {
   "cell_type": "markdown",
   "metadata": {},
   "source": [
    "![Folie 16](Folien/01/01_Mengen-und-Mengenoperationen-34.png)"
   ]
  },
  {
   "cell_type": "markdown",
   "metadata": {},
   "source": [
    "In den folgenden Beispielen betrachten wir zwei Mengen $A=\\{5,7,8\\}$ und $B=\\{5,6\\}$\n",
    "\n",
    "Der **Schnitt** von zwei Mengen A und B ist die Menge, die alle Elemente enthält, die sowohl in A als auch in B sind. Beispiel: \n",
    "\n",
    "$$A \\cap B = \\{5\\}$$\n",
    "\n",
    "Eine Vokabel taucht später immer wieder auf: Zwei Mengen sind *disjunkt*, wenn der Schnitt der beiden Mengen leer ist. Beispiel:\n",
    "\n",
    "$$A \\cap \\{12\\}= \\emptyset$$\n",
    "\n",
    "Die **Vereingung** von zwei Mengen A und B ist die Menge, in der alle Elemente aus A und B \"zusammengeworfen\" werden: \n",
    "\n",
    "$$A \\cup B = \\{5,6,7,8\\}$$\n",
    "\n",
    "Dabei ist wichtig: Die $5$ ist sowohl in $A$ als auch in $B$ enthalten. In der Vereinigung der beiden Mengen taucht sie aber nur ein mal auf. Mengen können schließlich nicht dasselbe Element mehrfach enthalten."
   ]
  },
  {
   "cell_type": "markdown",
   "metadata": {},
   "source": [
    "Die **Differenz** zweier Mengen A und B enthält alle Elemente, die in A, aber nicht in B sind. \n",
    "\n",
    "$$A-B=A\\setminus B = \\{7,8\\}$$\n",
    "\n",
    "Hier kommt es auf die Reihenfolge an, denn die Differenz von A und B muss nicht die Differenz von B und A sein:\n",
    "\n",
    "$$B-A = B \\setminus A = \\{6\\}$$"
   ]
  },
  {
   "cell_type": "markdown",
   "metadata": {},
   "source": [
    "Das **Komplement** einer Menge A ist eine besondere Form der Differenz. Oft gibt es bei Anwendungen der Mengenlehre ein *Universum* $U$. $U$ enthält alle Elemente, die in Betracht gezogen werden. Das Komplement von A in U ist dann die Menge aller Elemente aus U, die nicht in A sind. \n",
    "\n",
    "Sei in unserem Fall $U=\\{3,4,5,6,7,8,9\\}$. Dann ist\n",
    "\n",
    "$$C_U(A)= \\overline{A} = U-A=U\\setminus A=\\{3,4,6,9\\}$$ und\n",
    "$$C_U(B)= \\overline{B} = U-B=U\\setminus B=\\{3,4,7,8,9\\}$$"
   ]
  },
  {
   "cell_type": "markdown",
   "metadata": {},
   "source": [
    "## Notation binärer Mengenoperationen\n",
    "\n",
    "![Folie 17](Folien/01/01_Mengen-und-Mengenoperationen-37.png)\n",
    "\n",
    "Die Notationen auf Folie 17 werden im Video erläutert. "
   ]
  },
  {
   "cell_type": "markdown",
   "metadata": {},
   "source": [
    "<video \n",
    " controls \n",
    " width=\"560\" \n",
    " height=\"315\" \n",
    " src=\"https://user.phil-fak.uni-duesseldorf.de/~petersen/WiSe1819_mathGrundl/Videos/01_02_Schnitt%20und%20Vereinigung.mp4?autoplay=0\">\n",
    "</video>"
   ]
  },
  {
   "cell_type": "markdown",
   "metadata": {},
   "source": [
    "\n",
    "## Gesetze zu Schnitt und Vereinigung"
   ]
  },
  {
   "cell_type": "markdown",
   "metadata": {},
   "source": [
    "![Folie 18](Folien/01/01_Mengen-und-Mengenoperationen-43.png)"
   ]
  },
  {
   "cell_type": "markdown",
   "metadata": {},
   "source": [
    "Oben haben wir bestimmte Operationen *definiert*: Die Vereinigung, den Schnitt, das Komplement. Aus diesen Definitionen lassen sich bestimmte *Gesetze* ableiten. \n",
    "\n",
    "Wir verwenden drei Beispielmengen: $A=\\{5,7,8\\}, B=\\{5,6\\}$ und $C=\\{5,9\\}$."
   ]
  },
  {
   "cell_type": "markdown",
   "metadata": {},
   "source": [
    "### Kommutativgesetze\n",
    "*commutare* lateinisch, italienisch: pendeln, vertauschen. \n",
    "Bei Schnitt und Vereinigung kommt es nicht auf die Reihenfolge der Argumente an. Die beiden Mengen können vertauscht werden, ohne dass das Ergebnis beeinflusst wird. \n",
    "\n",
    "$$A \\cap B = B \\cap A\\\\\n",
    "\\Leftrightarrow \\{5,7,8\\} \\cap \\{5,6\\} = \\{5,6\\} \\cap \\{5,7,8\\}\\\\\n",
    "\\Leftrightarrow \\{5\\}$$\n",
    "\n",
    "$$A \\cup B = B \\cup A\\\\\n",
    "\\Leftrightarrow \\{5,7,8\\} \\cup \\{5,6\\} = \\{5,6\\} \\cup \\{5,7,8\\}\\\\\n",
    "\\Leftrightarrow \\{5,6,7,8\\}$$"
   ]
  },
  {
   "cell_type": "markdown",
   "metadata": {},
   "source": [
    "### Assoziativgesetze\n",
    "*assoziieren*: mit etwas verknüpfen. Werden mehr als ein Schnitt/eine Vereinigung hintereinander ausgeführt, kommt es nicht auf die Reihenfolge der Ausführung an. Es kommt also nicht auf die Art an, wie die Operationen miteinander verknüpft sind. Vergleichbar mit dem Assoziativgesetz in der Arithmetik, wo z.B. gilt: $(18+5)+3=18+(5+3)=26$\n",
    "\n",
    "$$(A \\cap B) \\cap C = A \\cap (B \\cap C)\\\\\n",
    "\\Leftrightarrow (\\{5,7,8\\} \\cap \\{5,6\\} ) \\cap \\{5,9\\}= \\{5,7,8\\} \\cap (\\{5,6\\} \\cap \\{5,9\\})\\\\\n",
    "\\Leftrightarrow \\{5\\} \\cap \\{5,9\\}= \\{5,7,8\\} \\cap \\{5\\}\\\\\n",
    "\\Leftrightarrow \\{5\\} = \\{5\\}$$\n",
    "\n",
    "$$(A \\cup B) \\cup C = A \\cup (B \\cup C)\\\\\n",
    "\\Leftrightarrow (\\{5,7,8\\} \\cup \\{5,6\\} ) \\cup \\{5,9\\}= \\{5,7,8\\} \\cup (\\{5,6\\} \\cup \\{5,9\\})\\\\\n",
    "\\Leftrightarrow \\{5,6,7,8\\} \\cup \\{5,9\\}= \\{5,7,8\\} \\cup \\{5,6,9\\}\\\\\n",
    "\\Leftrightarrow \\{5,6,7,8,9\\} = \\{5,6,7,8,9\\}$$"
   ]
  },
  {
   "cell_type": "markdown",
   "metadata": {},
   "source": [
    "### Distributivgesetze\n",
    "\n",
    "engl. *distribute*: verteilen. Die Distributivgesetze beschreiben, wie sich Verknüpfungen aus Schnitt und Vereinigung bei der Auflösung von Klammern verhalten. Beim Auflösen der Klammern *verteilen* sich die Mengen. Auch hier kann ein Beispiel zum Distributivgesetz in der Arithmetik helfen:\n",
    "\n",
    "$$(3+4)*6=3*6+4*6=7*6=42$$\n",
    "\n",
    "In der Mengenlehre sieht das folgendermaßen aus:\n",
    "\n",
    "$$(A \\cap B) \\cup C = (A \\cup C) \\cap (B \\cup C) \\\\\n",
    "\\Leftrightarrow (\\{5,7,8\\} \\cap \\{5,6\\}) \\cup \\{5,9\\} = (\\{5,7,8\\} \\cup \\{5,9\\}) \\cap (\\{5,6\\} \\cup \\{5,9\\}) \\\\\n",
    "\\Leftrightarrow \\{5\\} \\cup \\{5,9\\} = \\{5,7,8,9\\} \\cap \\{5,6,9\\} \\\\\n",
    "\\Leftrightarrow \\{5,9\\} = \\{5,9\\}$$"
   ]
  },
  {
   "cell_type": "markdown",
   "metadata": {},
   "source": [
    "$$(A \\cup B) \\cap C = (A \\cap C) \\cup (B \\cap C) \\\\\n",
    "\\Leftrightarrow (\\{5,7,8\\} \\cup \\{5,6\\}) \\cap \\{5,9\\} = (\\{5,7,8\\} \\cap \\{5,9\\}) \\cup (\\{5,6\\} \\cap \\{5,9\\}) \\\\\n",
    "\\Leftrightarrow \\{5,6,7,8\\} \\cap \\{5,9\\} = \\{5\\} \\cup \\{5\\} \\\\\n",
    "\\Leftrightarrow \\{5\\} = \\{5\\} $$"
   ]
  },
  {
   "cell_type": "markdown",
   "metadata": {},
   "source": [
    "### Idempotenzgesetze\n",
    "*Idemptenz* bedeutet in diesem Fall, dass eine Menge verknüpft mit sich selbst die Menge selbst ergibt. Beispiel: \n",
    "\n",
    "$$A \\cap A = A\\\\\n",
    "\\Leftrightarrow \\{5,7,8\\} \\cap \\{5,7,8\\} = \\{5,7,8\\}$$\n",
    "\n",
    "$$A \\cup A = A\\\\\n",
    "\\Leftrightarrow \\{5,7,8\\} \\cup \\{5,7,8\\} = \\{5,7,8\\}$$"
   ]
  },
  {
   "cell_type": "markdown",
   "metadata": {},
   "source": [
    "### Neutrale Elemente"
   ]
  },
  {
   "cell_type": "markdown",
   "metadata": {},
   "source": [
    "Das neutrale Element einer binären Operation ist das Element, welches zusammen mit einem beliebigen anderen Argument X die Argumente der Operation bildet, und X kommt bei dieser Operation heraus. Beispiel aus der Arithmetik: 0 addieren oder mit 1 multiplizieren: \n",
    "\n",
    "$$4+0=4\\\\23*1=23$$\n",
    "\n",
    "Das neutrale Element der Vereinigung ist die Menge, mit der man eine andere Menge A vereinigt, und das Ergebnis der Vereinigung ist A:\n",
    "\n",
    "$$\\{5,7,8\\} \\cup \\emptyset = \\{5,7,8\\}$$\n",
    "\n",
    "Das neutrale Element des Schnitts ist die Menge, mit der man eine andere Menge A schneidet, und das Ergebnis des Schnitts ist A. \n",
    "Das neutrale Element des Schnitts ist $U$, das Universum. In unserem Beispiel ist $U=\\mathbb{N}$\n",
    "\n",
    "$$A \\cap U = \\{5,7,8\\} \\cap \\mathbb{N} = \\{5,7,8\\}$$"
   ]
  },
  {
   "cell_type": "markdown",
   "metadata": {},
   "source": [
    "## weitere Gesetze"
   ]
  },
  {
   "cell_type": "markdown",
   "metadata": {},
   "source": [
    "![Folie X](Folien/01/01_Mengen-und-Mengenoperationen-46.png)"
   ]
  },
  {
   "cell_type": "markdown",
   "metadata": {},
   "source": [
    "Die de-Morgan'schen Gesetze sind wichtige Gesetze der Mengenlehre (und haben Entsprechungen in der Logik). Die Videos betrachten den Beweis der Gesetze auf zwei Arten: Graphisch mittels Venn-Diagrammen, und in ausformulierter Form.\n",
    "\n",
    "Einige Vokabeln sind hilfreich zum Verständnis der Videos. Man wird diese immer wieder sehen, da viele Texte in der Computerlinguistik auf Englisch sind.\n",
    "\n",
    "- Menge - set\n",
    "- Vereinigung - union\n",
    "- Schnitt - intersection"
   ]
  },
  {
   "cell_type": "markdown",
   "metadata": {},
   "source": [
    "### De-Morgan's Gesetze mit Venn-Diagrammen"
   ]
  },
  {
   "cell_type": "markdown",
   "metadata": {},
   "source": [
    "<iframe width=\"560\" height=\"315\" src=\"https://www.youtube.com/embed/NRJQn1AMik8\" frameborder=\"0\" allow=\"autoplay; encrypted-media\" allowfullscreen></iframe>"
   ]
  },
  {
   "cell_type": "markdown",
   "metadata": {},
   "source": [
    "### De-Morgan's Gesetze ausformuliert"
   ]
  },
  {
   "cell_type": "markdown",
   "metadata": {},
   "source": [
    "<iframe width=\"560\" height=\"315\" src=\"https://www.youtube.com/embed/ro1yGNEFSaE\" frameborder=\"0\" allow=\"autoplay; encrypted-media\" allowfullscreen></iframe>"
   ]
  },
  {
   "cell_type": "markdown",
   "metadata": {},
   "source": [
    "Hier nimmt man ein beliebiges $x$ und zeigt die de Morgan'schen Gesetze durch Aussagen darüber, ob $x$ Element bestimmter Mengen ist. \n",
    "An die Experten: Ist der Beweis vollständig? Was fehlt? "
   ]
  },
  {
   "cell_type": "code",
   "execution_count": null,
   "metadata": {},
   "outputs": [],
   "source": []
  }
 ],
 "metadata": {
  "kernelspec": {
   "display_name": "Python 3",
   "language": "python",
   "name": "python3"
  },
  "language_info": {
   "codemirror_mode": {
    "name": "ipython",
    "version": 3
   },
   "file_extension": ".py",
   "mimetype": "text/x-python",
   "name": "python",
   "nbconvert_exporter": "python",
   "pygments_lexer": "ipython3",
   "version": "3.6.4"
  }
 },
 "nbformat": 4,
 "nbformat_minor": 2
}
