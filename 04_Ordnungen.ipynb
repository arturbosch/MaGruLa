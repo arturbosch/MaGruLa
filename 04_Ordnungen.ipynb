{
 "cells": [
  {
   "cell_type": "markdown",
   "metadata": {},
   "source": [
    "## Begriffe, die in diesem Skript erklärt werden\n",
    "\n",
    "- stark und schwach\n",
    " - *korrespondierend*\n",
    "- *geordnete Mengen*\n",
    "- *(unmittelbarer) Vorgänger/Nachfolger*\n",
    "- *Hassediagramme + Beispiel*\n",
    "- *totale/partielle Ordnung*\n",
    "- *minimal, maximal*\n",
    "- *Vergleichbarkeit/Kette/Antikette/Höhe/Breite*\n",
    "- *Intervall/Ideal/Filter*\n",
    "- *Monotonie/Ordnungserhaltung*\n",
    "- *Ordnungseinbettung*\n",
    "- *Quasiordnung*"
   ]
  },
  {
   "cell_type": "markdown",
   "metadata": {},
   "source": [
    "# Ordnungen"
   ]
  },
  {
   "cell_type": "markdown",
   "metadata": {},
   "source": [
    "Eine weitere besondere Klasse von Relationen sind die *Ordnungsrelationen*. \n",
    "Das sind Relationen, die gewisse Eigenschaften erfüllen. Für Relationen kann man einen Haufen Begriffe definieren. Diese werden hier anhand von Beispielen erläutert."
   ]
  },
  {
   "cell_type": "markdown",
   "metadata": {},
   "source": [
    "## zwei Arten von Ordnungen: stark und schwach"
   ]
  },
  {
   "cell_type": "markdown",
   "metadata": {},
   "source": [
    "Eine Ordnung $R$ einer Menge $A$ ist eine binäre Relation $R\\subseteq A \\times A$.\n",
    "Man unterscheidet zwischen starken und schwachen Ordnungen. Die Eigenschaften Transitivität, Reflexivität und (Anti-)Symmetrie wurden in [diesem Skript](./02_Relationen.ipynb#Eigenschaften-bin%C3%A4rer-Relationen) besprochen.\n",
    "\n",
    "Schwache Ordnungen sind binäre Relationen, die \n",
    "- transitiv,\n",
    "- reflexiv und\n",
    "- antisymmetrisch\n",
    "\n",
    "sind. \n",
    "Starke (manchmal auch strikte) Odnungen sind Relationen, die\n",
    "- transitiv,\n",
    "- irreflexiv und\n",
    "- asymmetrisch\n",
    "\n",
    "sind."
   ]
  },
  {
   "cell_type": "markdown",
   "metadata": {},
   "source": [
    "### Beispiel\n",
    "\n",
    "Gegeben die Relation $R_{N1} \\subseteq \\mathbb{N} \\times \\mathbb{N}$.\n",
    "$R_{N1}=\\{(x,y)| x \\leq y\\}$. \n",
    "\n",
    "$R_{N1}$ enthält also z.B. die Tupel $(1,1),(1,2),(1,3),\\dots,(2,2),(2,3),\\dots$.\n",
    "Damit ist $R_{N1}$ eine schwache Ordnung, denn die Relation ist\n",
    "- transitiv: da z.B. $2\\le 3$ und $3\\le 19$, gilt auch $2\\le 19$\n",
    "- reflexiv: $(n,n) \\in R_{N1}$ für alle $n \\in \\mathbb{N}$\n",
    "- antisymmetrisch: wenn $(a,b) \\in R_{N1}$ und $(b,a) \\in R_{N1}$, ist niemals $a\\neq b$\n",
    "\n",
    "\n",
    "Die Relation $R_{N2} \\subseteq \\mathbb{N} \\times \\mathbb{N}$ mit $R_{N2}=\\{(x,y)| x < y\\}$ ist eine echte Teilmenge von $R_{N1}$. $R_{N2}$ enthält nämlich alle Tupel aus $R_{N1}$ außer die Tupel mit zwei gleichen Zahlen. Also:\n",
    "\n",
    "$R_{N2}=R_{N1}\\setminus \\{(n,n) \\in R_{N1} | n \\in \\mathbb{N}\\}$\n",
    "\n",
    "Damit ist $R_{N2}$ genau wie $R_{N1}$ transitiv, aber irreflexiv und asymmetrisch: Es enthält keine Tupel der Form $(1,1),(2,2),\\dots$ mehr und ist deshalb irreflexiv. Und: Da es keine zwei Zahlen a,b gibt, für die gilt: a<b und b<a, ist $R_{N2}$ auch asymmetrisch.  \n",
    "\n",
    "Also ist $R_{N2}$ eine starke Ordnung"
   ]
  },
  {
   "cell_type": "markdown",
   "metadata": {},
   "source": [
    "Eine **geordnete Menge** $(M,R)$ ist ein Paar aus einer Menge $M$ und einer Ordnung $R$ von $M$. \n",
    "\n",
    "Hier ein Beispiel aus dem Foliensatz:"
   ]
  },
  {
   "cell_type": "markdown",
   "metadata": {},
   "source": [
    "Fortsetzung folgt bald"
   ]
  },
  {
   "cell_type": "code",
   "execution_count": null,
   "metadata": {},
   "outputs": [],
   "source": []
  }
 ],
 "metadata": {
  "kernelspec": {
   "display_name": "Python 3",
   "language": "python",
   "name": "python3"
  },
  "language_info": {
   "codemirror_mode": {
    "name": "ipython",
    "version": 3
   },
   "file_extension": ".py",
   "mimetype": "text/x-python",
   "name": "python",
   "nbconvert_exporter": "python",
   "pygments_lexer": "ipython3",
   "version": "3.6.4"
  }
 },
 "nbformat": 4,
 "nbformat_minor": 2
}
