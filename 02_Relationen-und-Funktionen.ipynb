{
 "cells": [
  {
   "cell_type": "markdown",
   "metadata": {},
   "source": [
    "- n-Tupel\n",
    "- Cartesisches Produkt\n",
    "- Relationen\n",
    "- binäre Relationen\n",
    "- inverse, komplementäre Rels\n",
    "- Eigenschaften binärer Relationen\n",
    "- Definitions- und Wertebereich\n",
    "- Äquivalenzrelationen\n",
    "- Funktionen\n",
    " - Notation und Terminologie\n",
    " - total und partiell\n",
    " - injektiv, surjektiv, bijektiv\n",
    " - Komposition\n",
    " - Identitätsfunktion\n",
    " - mehrstellige Funktionen\n",
    " - char. Funktion einer Teilmenge\n",
    " - Mengen von Funktionen\n",
    " - char. Funkt und Potenzmenge"
   ]
  },
  {
   "cell_type": "code",
   "execution_count": null,
   "metadata": {},
   "outputs": [],
   "source": []
  }
 ],
 "metadata": {
  "kernelspec": {
   "display_name": "Python 3",
   "language": "python",
   "name": "python3"
  },
  "language_info": {
   "codemirror_mode": {
    "name": "ipython",
    "version": 3
   },
   "file_extension": ".py",
   "mimetype": "text/x-python",
   "name": "python",
   "nbconvert_exporter": "python",
   "pygments_lexer": "ipython3",
   "version": "3.6.4"
  }
 },
 "nbformat": 4,
 "nbformat_minor": 2
}
