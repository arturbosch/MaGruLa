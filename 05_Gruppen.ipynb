{
 "cells": [
  {
   "cell_type": "markdown",
   "metadata": {},
   "source": [
    "# Gruppen"
   ]
  },
  {
   "cell_type": "markdown",
   "metadata": {},
   "source": [
    "Mithilfe der Gesetze und neutraler und inverser Elemente ([hier](./05_Algebren.ipynb) besprochen) lassen sich Algebren genauer einordnen."
   ]
  },
  {
   "cell_type": "markdown",
   "metadata": {},
   "source": [
    "![Folie Gruppen](Folien/05/slide-23.png)"
   ]
  },
  {
   "cell_type": "markdown",
   "metadata": {},
   "source": [
    "Es gilt also, dass jede Gruppe ein Monoid ist, und jeder Monoid auch eine Semigruppe ist."
   ]
  },
  {
   "cell_type": "markdown",
   "metadata": {},
   "source": [
    "![Beispiele](Folien/05/slide-25.png)"
   ]
  },
  {
   "cell_type": "markdown",
   "metadata": {},
   "source": [
    "### $(\\mathbb{N},+),(\\mathbb{N}_0,+)$ und $(\\mathbb{Z},+)$\n",
    "\n",
    "$+$ ist assoziativ: $3+(4+5)=(3+4)+5=12$. Alle sind also Semigruppen. Da das neutrale Element der Addition, $0$, aber nur in $\\mathbb{N}_0$ und $\\mathbb{Z}$ enthalten ist, sind nur diese beiden Monoide. $(\\mathbb{N}_0,+)$ ist aber keine Gruppe, da es keine inversen Elemente für die Addition (die negativen Zahlen) in $\\mathbb{N}_0$ gibt."
   ]
  },
  {
   "cell_type": "markdown",
   "metadata": {},
   "source": [
    "### $(Pot(M),\\cup)$\n",
    "\n",
    "Siehe hierzu das [Video zu neutralen und inversen Elementen bei Potenzmengen](05_Algebren.ipynb#Video-neutrale-und-inverse-Elemente-am-Beispiel-von-$(Pot(M),\\cap)$-und-$(Pot(M),\\cup)$)."
   ]
  },
  {
   "cell_type": "markdown",
   "metadata": {},
   "source": [
    "### $(\\Sigma^\\ast, \\circ)$\n",
    "\n",
    "Nimm irgendein $\\Sigma$, z.B. $\\Sigma=\\{a,b,c\\}$. \n",
    "$\\circ$ ist asssoziativ: $aa\\circ (abc\\circ b)=(aa\\circ abc)\\circ b=aaabcb$ Das neutrale Element in $\\Sigma^\\ast$ ist $\\epsilon$. Man kann Wörter aber nicht \"kürzer machen\", also ein Wort (z.B. $abc$) mit einem anderen Wort konkatenieren, sodass $\\epsilon$ das Ergebnis ist. Deshalb ist $(\\Sigma^\\ast, \\circ)$ keine Gruppe."
   ]
  },
  {
   "cell_type": "markdown",
   "metadata": {},
   "source": [
    "### $(N \\text{ mod } 3, \\oplus_3)$\n",
    "\n",
    "Siehe hierzu den [Text im Algebren-Notebook](05_Algebren.ipynb#Restklassen).\n"
   ]
  },
  {
   "cell_type": "markdown",
   "metadata": {},
   "source": [
    "### $(\\triangle_D, \\circ)$\n",
    "\n",
    "Siehe hierzu das [Video zum Drehen gleichseitiger Dreiecke](05_Algebren.ipynb#Video-zum-Beispiel-\"Drehung-gleichseitiger-Dreiecke\") "
   ]
  }
 ],
 "metadata": {
  "kernelspec": {
   "display_name": "Python 3",
   "language": "python",
   "name": "python3"
  },
  "language_info": {
   "codemirror_mode": {
    "name": "ipython",
    "version": 3
   },
   "file_extension": ".py",
   "mimetype": "text/x-python",
   "name": "python",
   "nbconvert_exporter": "python",
   "pygments_lexer": "ipython3",
   "version": "3.6.4"
  }
 },
 "nbformat": 4,
 "nbformat_minor": 2
}
