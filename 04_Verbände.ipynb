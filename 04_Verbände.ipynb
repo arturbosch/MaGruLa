{
 "cells": [
  {
   "cell_type": "markdown",
   "metadata": {},
   "source": [
    "# Verbände"
   ]
  },
  {
   "cell_type": "markdown",
   "metadata": {},
   "source": [
    "- *obere und untere Schranken*\n",
    "- *Verbände und vollständige Verbände*"
   ]
  },
  {
   "cell_type": "markdown",
   "metadata": {},
   "source": [
    "## obere und untere Schranken\n",
    "\n"
   ]
  },
  {
   "cell_type": "markdown",
   "metadata": {},
   "source": [
    "![obere untere Schranke](Folien/04/newslide-33.png)\n"
   ]
  },
  {
   "cell_type": "markdown",
   "metadata": {},
   "source": [
    "Wichtig ist, dass das Element $x$ nicht aus $K$ selbst kommen muss, sondern lediglich aus der Menge $M$, und das gilt $M \\supseteq K$. Außerdem kann es für eine gegebene Menge $M$ und eine gegebene Teilmenge $M\\subseteq K$ mehrere untere und mehrere obere Schranken geben.\n",
    "\n",
    "Im Video wird diese Definition an mehreren Beispielen erklärt. "
   ]
  },
  {
   "cell_type": "markdown",
   "metadata": {},
   "source": [
    "# Video obere untere Schranken"
   ]
  },
  {
   "cell_type": "markdown",
   "metadata": {},
   "source": [
    "![kleinste obere größte untere Schranke](Folien/04/newslide-35.png)"
   ]
  },
  {
   "cell_type": "markdown",
   "metadata": {},
   "source": [
    "Gegeben eine geordnete Menge $(M,\\leq)$. Zu jeder Teilmenge $K \\subseteq M$ kann es $0,1,2,\\dots$ obere bzw. untere Schranken in $M$ geben. Bezeichnen wir die Menge der oberen Schranken mit $S_o$ und die Menge der unteren Schranken mit $S_u$. Es gilt natürlich: $S_o \\subseteq M$ und $S_u \\subseteq M$. Es gilt aber nicht immer, dass $S_o \\subseteq K$ bzw. $S_u \\subseteq K$.\n",
    "\n",
    "### kleinste obere Schranke\n",
    "\n",
    "Jetzt ist ein Element der Ordnung $x\\in S_o$ die kleinste obere Schranke von $K$, wenn es eine obere Schranke von $K$ ist. Dafür muss gelten, dass für alle $y \\in K: y\\leq x$. Bei schwachen Ordnungen muss dann nicht $x\\neq y$ sein! \n",
    "\n",
    "Außerdem muss gelten, dass für alle $z \\in S_o: x \\leq z$. Die kleinste obere Schranke $x$ muss also $\\leq$ alle anderen oberen Schranken sein. Dafür muss $x$ mit allen anderen oberen Schranken vergleichbar sein. Ist $x$ nicht mit allen anderen oberen Schranken vergleichbar, ist $x$ also keine kleinste obere Schranke. \n",
    "\n",
    "### größte untere Schranke\n",
    "Bei den größten unteren Schranken ist es umgekehrt: \n",
    "ein Element der Ordnung $x\\in S_u$ ist die größte untere Schranke von $K$, wenn es eine untere Schranke von $K$ ist. Dafür muss gelten, dass für alle $y \\in K: x \\leq y$. Bei schwachen Ordnungen muss dann nicht $x \\neq y$ sein! \n",
    "\n",
    "Außerdem muss gelten, dass für alle $z \\in S_u: z \\leq x$. alle anderen unteren Schranken müssen also $\\leq x$ sein. Dafür muss $x$ mit allen anderen unteren Schranken vergleichbar sein. Ist $x$ nicht mit allen anderen unteren Schranken vergleichbar, ist $x$ also keine kleinste untere Schranke. \n",
    "\n",
    "Merke: Nicht jede Teilmenge $K \\subseteq M$, die obere (untere) Schranken hat, hat auch ein Supremum (Infimum)!"
   ]
  },
  {
   "cell_type": "markdown",
   "metadata": {},
   "source": [
    "### Video Infimum/Supremum"
   ]
  },
  {
   "cell_type": "markdown",
   "metadata": {},
   "source": [
    "<video \n",
    " controls \n",
    " width=\"560\" \n",
    " height=\"315\" \n",
    " src=\"https://user.phil-fak.uni-duesseldorf.de/~petersen/WiSe1819_mathGrundl/Videos/04_07_Potenzmengenverband.mp4?autoplay=0\"></video>"
   ]
  },
  {
   "cell_type": "markdown",
   "metadata": {},
   "source": [
    "in ca. $1:42$ ist natürlich $\\{1\\}\\cup\\{2\\}$ und nicht $\\{1\\}\\cup\\{1,2\\}$ gemeint."
   ]
  },
  {
   "cell_type": "markdown",
   "metadata": {},
   "source": [
    "### Terminologie\n",
    "\n",
    "- kleinste obere Schranke = Supremum von K = $sup \\: K$ = $\\bigvee K$ \n",
    " - Wenn $|K| = 2$, also $K=\\{x,y\\}$: $\\bigvee \\{x,y\\} = x \\lor y$\n",
    "- größte untere Schranke = Infimum von K = $inf \\: K$ = $\\bigwedge K$\n",
    " - Wenn $|K| = 2$, also $K=\\{x,y\\}$: $\\bigwedge \\{x,y\\} = x \\land y$\n",
    "\n",
    "\n",
    "**und wie merkt man sich den Unterschied???** *super* hat die Bedeutung *über*, zum Beispiel in Superset (englisch für Obermenge), Superklasse (aus der objektorientierten Programmierung). Deshalb ist das supremum eine obere Schranke. Wer eine bessere Eselsbrücke kennt, schreibe mir bitte eine Mail!"
   ]
  },
  {
   "cell_type": "markdown",
   "metadata": {},
   "source": [
    "![Verbände](Folien/04/newslide-37.png)"
   ]
  },
  {
   "cell_type": "markdown",
   "metadata": {},
   "source": [
    "Jeder endliche Verband ist vollständig.\n",
    "\n",
    "Da $inf\\emptyset =1_V$ und $sup\\emptyset = 0_V$ gilt, gibt es keinen vollständigen Verband mit leerer Menge V."
   ]
  },
  {
   "cell_type": "code",
   "execution_count": null,
   "metadata": {},
   "outputs": [],
   "source": []
  }
 ],
 "metadata": {
  "kernelspec": {
   "display_name": "Python 3",
   "language": "python",
   "name": "python3"
  },
  "language_info": {
   "codemirror_mode": {
    "name": "ipython",
    "version": 3
   },
   "file_extension": ".py",
   "mimetype": "text/x-python",
   "name": "python",
   "nbconvert_exporter": "python",
   "pygments_lexer": "ipython3",
   "version": "3.6.4"
  }
 },
 "nbformat": 4,
 "nbformat_minor": 2
}
