{
 "cells": [
  {
   "cell_type": "markdown",
   "metadata": {},
   "source": [
    "# Tupel und Relationen"
   ]
  },
  {
   "cell_type": "markdown",
   "metadata": {},
   "source": [
    "- n-Tupel\n",
    "- Cartesisches Produkt\n",
    "- Relationen\n",
    "- binäre Relationen\n",
    "- inverse, komplementäre Rels\n",
    "- Eigenschaften binärer Relationen\n"
   ]
  },
  {
   "cell_type": "markdown",
   "metadata": {},
   "source": [
    "## Tupel"
   ]
  },
  {
   "cell_type": "markdown",
   "metadata": {},
   "source": [
    "![Folie 21](Folien/02/slide-05.png)"
   ]
  },
  {
   "cell_type": "markdown",
   "metadata": {},
   "source": [
    "### Das Cartesische Produkt\n",
    "\n",
    "Wie das Cartesische Produkt (oder Kreuzprodukt) zweier Mengen gebildet wird, wird im Video gezeigt.\n",
    "\n",
    "Die **Mächtigkeit des Cartesischen Produkts** zweier Mengen M und N ist die Mächtigkeit von M mal die Mächtigkeit von N:\n",
    "\n",
    "$$|M \\times N| = |M|\\cdot |N|$$"
   ]
  },
  {
   "cell_type": "markdown",
   "metadata": {},
   "source": [
    "<video \n",
    " controls \n",
    " width=\"560\" \n",
    " height=\"315\" \n",
    " src=\"https://user.phil-fak.uni-duesseldorf.de/~petersen/magrula/videos/02_01_Cartesisches_Produkt.mp4?autoplay=0\">\n",
    "</video>\n"
   ]
  },
  {
   "cell_type": "markdown",
   "metadata": {},
   "source": [
    "## Relationen"
   ]
  },
  {
   "cell_type": "markdown",
   "metadata": {},
   "source": [
    "![Folie 22](Folien/02/slide-08.png)"
   ]
  },
  {
   "cell_type": "markdown",
   "metadata": {},
   "source": [
    "![Folie 23](Folien/02/slide-09.png)"
   ]
  },
  {
   "cell_type": "markdown",
   "metadata": {},
   "source": [
    "$R \\subseteq A \\times B$ ist eine typische Definition für eine Relation. \n",
    "Diese Definition von Relationen ist folgendermaßen zu verstehen: \n",
    "$A \\times B$ ist das Cartesische Produkt von $A$ und $B$, also die Menge von Tupeln mit allen möglichen Kombinationen der Elemente von $A$ und $B$. \n",
    "Die Relation gilt aber nicht notwendigerweise für alle Elemente dieses Cartesischen Produkts. \n",
    "Deshalb ist die Relation nur eine Teilmenge davon. \n",
    "\n",
    "Ein Beispiel: \n",
    "\n",
    "Die binäre Relation $S$ steht für \"ist Schwester von\" auf der Menge der Menschen. Das erste Argument ist Schwester des zweiten Arguments. Die Menge der Menschen sei mit $H_{sap}$ bezeichnet. \n",
    "Formal bedeutet das: $S \\subseteq H_{sap} \\times H_{sap}$\n",
    "\n",
    "Die ist-Schwester-Relation $S$ gilt nicht für alle Elemente aus $H_{sap} \\times H_{sap}$. \n",
    "Schließlich gibt es in $H_{sap} \\times H_{sap}$ das Tupel $\\langle Albert\\:Einstein,\\:Kurt\\:Gödel\\rangle$, und beide Personen sind offensichtlich keine Schwestern."
   ]
  },
  {
   "cell_type": "markdown",
   "metadata": {},
   "source": [
    "## Inverse und Komplement"
   ]
  },
  {
   "cell_type": "markdown",
   "metadata": {},
   "source": [
    "![Folie 25](Folien/02/slide-11.png)"
   ]
  },
  {
   "cell_type": "markdown",
   "metadata": {},
   "source": [
    "## Eigenschaften binärer Relationen"
   ]
  },
  {
   "cell_type": "markdown",
   "metadata": {},
   "source": [
    "### Reflexivität"
   ]
  },
  {
   "cell_type": "markdown",
   "metadata": {},
   "source": [
    "![Folie 29](Folien/02/slide-20.png)"
   ]
  },
  {
   "cell_type": "markdown",
   "metadata": {},
   "source": [
    "<video \n",
    " controls \n",
    " width=\"560\" \n",
    " height=\"315\" \n",
    " src=\"https://user.phil-fak.uni-duesseldorf.de/~petersen/magrula/videos/02_02_Reflexivitaet.mp4?autoplay=0\">\n",
    "</video>\n"
   ]
  },
  {
   "cell_type": "markdown",
   "metadata": {},
   "source": [
    "### Symmetrie"
   ]
  },
  {
   "cell_type": "markdown",
   "metadata": {},
   "source": [
    "![Folie 30](Folien/02/slide-27.png)"
   ]
  },
  {
   "cell_type": "markdown",
   "metadata": {},
   "source": [
    "<video \n",
    " controls \n",
    " width=\"560\" \n",
    " height=\"315\" \n",
    " src=\"https://user.phil-fak.uni-duesseldorf.de/~petersen/magrula/videos/02_03_Symmetrie.mp4?autoplay=0\">\n",
    "</video>\n"
   ]
  },
  {
   "cell_type": "markdown",
   "metadata": {},
   "source": [
    "### Transitivität"
   ]
  },
  {
   "cell_type": "markdown",
   "metadata": {},
   "source": [
    "![Folie 31](Folien/02/slide-33.png)"
   ]
  },
  {
   "cell_type": "markdown",
   "metadata": {},
   "source": [
    "<video \n",
    " controls \n",
    " width=\"560\" \n",
    " height=\"315\" \n",
    " src=\"https://user.phil-fak.uni-duesseldorf.de/~petersen/magrula/videos/02_04_Transitivitaet.mp4?autoplay=0\">\n",
    "</video>\n"
   ]
  },
  {
   "cell_type": "code",
   "execution_count": null,
   "metadata": {},
   "outputs": [],
   "source": []
  }
 ],
 "metadata": {
  "kernelspec": {
   "display_name": "Python 3",
   "language": "python",
   "name": "python3"
  },
  "language_info": {
   "codemirror_mode": {
    "name": "ipython",
    "version": 3
   },
   "file_extension": ".py",
   "mimetype": "text/x-python",
   "name": "python",
   "nbconvert_exporter": "python",
   "pygments_lexer": "ipython3",
   "version": "3.6.4"
  }
 },
 "nbformat": 4,
 "nbformat_minor": 2
}
