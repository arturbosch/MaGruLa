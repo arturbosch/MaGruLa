{
 "cells": [
  {
   "cell_type": "markdown",
   "metadata": {},
   "source": [
    "Diese Aufgaben sind als Selbsttest gedacht, ob man den Stoff zur Kombinatorik verstanden hat. Es kommt natürlich nicht darauf an, die richtige Lösung zu raten, sondern auch den Rechenweg zu finden!"
   ]
  },
  {
   "cell_type": "markdown",
   "metadata": {},
   "source": [
    "### Aufgabe Pin: \n",
    "\n",
    "Wie viele Kombinationen von 4 Zahlen sollte man im schlimmsten Fall ausprobieren, um die Pin von einem Handy zu erraten? Das Handy lässt zu, dass beliebig viele Pins ausprobiert werden können.\n",
    "    \n",
    "    a) 1048576\n",
    "    b) 10000\n",
    "    c) 9999\n",
    "    d) 1000\n",
    "    \n",
    "    \n",
    "[Lösung](sol/07-Komb-mm.txt)"
   ]
  },
  {
   "cell_type": "markdown",
   "metadata": {},
   "source": [
    "### Aufgabe Sitzplätze: \n",
    "\n",
    "Im Restaurant gibt es nur 3 Sitzplätze. Wie viele Möglichkeiten gibt es, für 6 verschiedene und müde Kunden diese 3 Sitzplätze zu belegen?\n",
    "    \n",
    "    a) 108\n",
    "    b) 124\n",
    "    c) 120\n",
    "    d) 24\n",
    "    \n",
    "[Lösung](sol/07-Komb-oo.txt)"
   ]
  },
  {
   "cell_type": "markdown",
   "metadata": {},
   "source": [
    "### Aufgabe Safe: \n",
    "\n",
    "Dein krimineller Freund hat dir verraten, dass der Passcode für das Safe, in dem sich die Diamanten befinden, 3 Ziffern ($0-9$) hat, und alle 3 Zahlen **unterschiedlich** sind. Wie viele verschiedene Varianten musst du im schlimmsten Fall ausprobieren, um die Brillanten zu kriegen?\n",
    "    \n",
    "    a) 120\n",
    "    b) 720\n",
    "    c) 504\n",
    "    d) 82\n",
    "    \n",
    "[Lösung](sol/07-Komb-om.txt)"
   ]
  },
  {
   "cell_type": "markdown",
   "metadata": {},
   "source": [
    "### Aufgabe Waffeln:\n",
    "\n",
    "\"Wunderbare Waffelwelt\" Düsseldorf bietet 15 verschiedene Waffel-Toppings an. Aber es dürfen nicht mehr und nicht weniger als 4 Toppings auf einer Waffel zusammen kombiniert werden. Die vier Toppings einer Waffel müssen verschieden sein. Die Reihenfolge der Toppings ist aber egal. Wie viele verschiedene Waffeln kann man in der \"Wunderbare Waffelwelt\" zusammenstellen?   \n",
    "\n",
    "    a) 1073741824\n",
    "    b) 3060\n",
    "    c) 60\n",
    "    d) 1365\n",
    "    \n",
    "[Lösung](sol/07-Komb-oo.txt)"
   ]
  },
  {
   "cell_type": "markdown",
   "metadata": {},
   "source": [
    "### Aufgabe Hände schütteln:\n",
    "\n",
    "Du bist zusammen mit anderen 11 Leuten zu einer Party eingeladen. Zur Begrüßung gibt jeder jedem einmal die Hand. Wie oft wird insgesamt Hände geschüttelt? (Man schüttelt Hände natürlich nicht mit sich selbst.)\n",
    "\n",
    "    a) 66\n",
    "    b) 60\n",
    "    c) 55\n",
    "    d) 50\n",
    "\n",
    "[Lösung](sol/07-Komb-haendeschuetteln.txt)"
   ]
  },
  {
   "cell_type": "markdown",
   "metadata": {},
   "source": [
    "### Aufgabe Kaffeehaus:\n",
    "\n",
    "Kaffee Kranz hat ein Angebot, dass man sich für 10 Euro drei Teile aus dem Sortiment nach Wahl nehmen darf. Kaffee Kranz hat 3 verschiedene Muffins, 4 verschiedene Bagels und 10 verschiedene Getränke zur Auswahl. Wie viele Varianten stehen insgesamt zur Verfügung?\n",
    "\n",
    "    a) 2100\n",
    "    b) 1200\n",
    "    c) 969\n",
    "    d) 699\n",
    "    \n",
    "[Lösung](sol/07-Komb-mo.txt)"
   ]
  },
  {
   "cell_type": "markdown",
   "metadata": {},
   "source": [
    "### Aufgabe Karaoke:\n",
    "\n",
    "Du kommst zum billigsten Karaoke in Düsseldorf und darfst jetzt aus 7 Liedern 3 Lieder zum Singen auswählen. Wie viele verschiedene Möglichkeiten hast du die Lieder zu kombinieren? Die Reihenfolge ist egal.\n",
    "\n",
    "    a) 21\n",
    "    b) 210\n",
    "    c) 343\n",
    "    d) 35\n",
    "    \n",
    "[Lösung](sol/07-Komb-Karaoke.txt)"
   ]
  },
  {
   "cell_type": "markdown",
   "metadata": {},
   "source": [
    "### Aufgabe Obstkuchen:\n",
    "\n",
    "Wie viele 3-Buchstaben-Wörter mit oder ohne Bedeutung können aus den Buchstaben des Wortes **OBSTKUCHEN** gebildet werden, wenn eine Wiederholung von Buchstaben nicht erlaubt ist?\n",
    "\n",
    "    a) 720\n",
    "    b) 420\n",
    "    c) 620\n",
    "    d) 5040\n",
    "    \n",
    "[Lösung](sol/07-Komb-Obstkuchen.txt)"
   ]
  },
  {
   "cell_type": "markdown",
   "metadata": {},
   "source": [
    "### Aufgabe Klausur:\n",
    "\n",
    "Eine Klausur besteht aus zwei Teilen - \"einfacher Teil\" mit 10 Fragen und \"schwieriger Teil\" mit 10 Fragen. Um die Klausur zu bestehen, musst du 8 Fragen aus dem schwierigen Teil bearbeiten und 4 Fragen aus dem einfachen Teil. Wie viele Möglichkeiten hast du, die Fragen zu bearbeiten?\n",
    "\n",
    "    a) 3200\n",
    "    b) 1200\n",
    "    c) 9450\n",
    "    d) 408\n",
    "    \n",
    "[Lösung](sol/07-Komb-Klausur.txt)"
   ]
  },
  {
   "cell_type": "markdown",
   "metadata": {},
   "source": [
    "### Aufgabe Museum:\n",
    "\n",
    "Im Kunstmuseum gibt es 5 Bilder von Andy Warhol, 7 Bilder von Picasso und 11 Bilder von Kandinsky. Gustav der Meisterdieb möchte 2 Bilder unterschiedlicher Künstler klauen. Wie viele Möglichkeiten hat er?  \n",
    "\n",
    "    a) 350\n",
    "    b) 150\n",
    "    c) 208\n",
    "    d) 167\n",
    "    \n",
    "[Lösung](sol/07-Komb-Museum.txt)"
   ]
  },
  {
   "cell_type": "code",
   "execution_count": null,
   "metadata": {},
   "outputs": [],
   "source": []
  }
 ],
 "metadata": {
  "kernelspec": {
   "display_name": "Python 3",
   "language": "python",
   "name": "python3"
  },
  "language_info": {
   "codemirror_mode": {
    "name": "ipython",
    "version": 3
   },
   "file_extension": ".py",
   "mimetype": "text/x-python",
   "name": "python",
   "nbconvert_exporter": "python",
   "pygments_lexer": "ipython3",
   "version": "3.6.4"
  }
 },
 "nbformat": 4,
 "nbformat_minor": 2
}
