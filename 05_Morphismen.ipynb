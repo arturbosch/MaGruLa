{
 "cells": [
  {
   "cell_type": "markdown",
   "metadata": {},
   "source": [
    "# Morphismen"
   ]
  },
  {
   "cell_type": "markdown",
   "metadata": {},
   "source": [
    "Diese Morphismen auf Algebren sind eng mit den [ordnungserhaltenden Abbildungen](./04_Ordnungserhaltende-Abbildungen.ipynb) verwandt."
   ]
  },
  {
   "cell_type": "markdown",
   "metadata": {},
   "source": [
    "![Morphismen](Folien/05/slide-17.png)"
   ]
  },
  {
   "cell_type": "markdown",
   "metadata": {},
   "source": [
    "Die Definition des Homomorphismus gilt natürlich auch für Algebren mit mehr oder weniger als 2 Operationen. Dabei ist für den Homomorphismus folgendes wichtig.\n",
    "\n",
    "Erst den Homomorphismus auf zwei Elemente der ersten Algebra anzuwenden und dann die entsprechende Operation aus der zweiten Algebra anzuwenden erzeugt das selbe Ergenis wie erst die entsprechende Operation der ersten Algebra auf zwei Elemente der ersten Algebra anwenden und auf das Resultat den Homomorphismus anzuwenden. Für einen Homomorphismus muss die Reihenfolge von \"Morphismus anwenden\" und \"Operation der Algebra anwenden\" also vertauscht werden können."
   ]
  },
  {
   "cell_type": "markdown",
   "metadata": {},
   "source": [
    "![Morphismen](Folien/05/slide-18.png)"
   ]
  },
  {
   "cell_type": "markdown",
   "metadata": {},
   "source": [
    "Ein Isomorphismus ist ein bijektiver Homomorphismus. Das bedeutet: $A$ und $B$ müssen gleich mächtig sein, damit der Morphismus $\\varphi$ die inverse Funktion $\\varphi^{-1}$ hat. Dafür muss durch $\\varphi$ jedem Element aus $B$ ein Element aus $A$ zugeordnet werden."
   ]
  },
  {
   "cell_type": "markdown",
   "metadata": {},
   "source": [
    "Ein Automorphismus ist also ein Isomorphismus, der von einer Menge in die selbe Menge führt."
   ]
  },
  {
   "cell_type": "markdown",
   "metadata": {},
   "source": [
    "![Morphismen](Folien/05/slide-20.png)"
   ]
  },
  {
   "cell_type": "markdown",
   "metadata": {},
   "source": [
    "### Beispiel 1\n",
    "\n",
    "Um das erste Beispiel nachvollziehen zu können, macht es Sinn, sich das [Beispiel zu Restklassen] (05_Algebren.ipynb#Restklassen) anzusehen. Hier wird die Menge der natürlichen Zahlen in die Menge der Restklassen von 3 projiziert. Also: $\\varphi(2)=[2]$, da $2$ mod $3=2$. Da es natürlich viel mehr natürliche Zahlen (unendlich viele) als Reste beim Teilen durch drei (3) gibt, ist $\\varphi$ kein Isomorphismus. $\\varphi^{-1}$ ist nämlich keine Funktion."
   ]
  },
  {
   "cell_type": "markdown",
   "metadata": {},
   "source": [
    "### Beispiel 2\n",
    "\n",
    "Hier wird die Menge der natürlichen Zahlen auf die Sprache $\\{a\\}^\\ast=\\{\\epsilon, a, aa, aaa, aaaa, \\dots\\}$ abgebildet. Jede natürliche Zahl wird das Wort aus $a$'s mit entsprechender Länge zugeordnet. $\\varphi(3)=aaa,\\:\\varphi(0)=\\epsilon$, etc. Natürlich kann man jedem Wort aus $a$'s seine Länge zuordnen, und deshalb ist $\\varphi$ bijektiv."
   ]
  },
  {
   "cell_type": "markdown",
   "metadata": {},
   "source": [
    "### Beispiel 3\n",
    "Die erste Algebra bezieht sich auf die Drehung von Dreiecken. Siehe dazu [dieses Video](05_Algebren.ipynb#Video-zum-Beispiel-\"Drehung-gleichseitiger-Dreiecke\").\n",
    "Da es drei Möglichkeiten gibt, das Dreieck zu drehen, kann man eine bijektive Funktion zwischen diesen 3 Möglichkeiten und den Restklassen von 3 herstellen."
   ]
  },
  {
   "cell_type": "code",
   "execution_count": null,
   "metadata": {},
   "outputs": [],
   "source": []
  }
 ],
 "metadata": {
  "kernelspec": {
   "display_name": "Python 3",
   "language": "python",
   "name": "python3"
  },
  "language_info": {
   "codemirror_mode": {
    "name": "ipython",
    "version": 3
   },
   "file_extension": ".py",
   "mimetype": "text/x-python",
   "name": "python",
   "nbconvert_exporter": "python",
   "pygments_lexer": "ipython3",
   "version": "3.6.4"
  }
 },
 "nbformat": 4,
 "nbformat_minor": 2
}
