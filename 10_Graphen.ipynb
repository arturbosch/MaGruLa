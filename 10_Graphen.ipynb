{
 "cells": [
  {
   "cell_type": "markdown",
   "metadata": {},
   "source": [
    "# Graphentheorie"
   ]
  },
  {
   "cell_type": "markdown",
   "metadata": {},
   "source": [
    "Die Artikel zu Graphentheorie in der [Mathepedia](https://mathepedia.de/Graphentheorie.html) bieten ein sehr gutes Nachschlagewerk zum Thema. Dort werden alle wichtigen Begriffe erklärt. Es gibt Unmengen anderer Skripte und Lehrbücher im Internet zu Graphentheorie. \n",
    "Möchte man komplexere Definitionen in der Graphentheorie (und anderen Disziplinen) verstehen und hat Schwierigkeiten mit einer bestimmten Definition, lohnt es sich oft, mehrere Quellen zu Rate zu ziehen, die das selbe Thema aus verschiedenen Richtungen betrachten. Dabei sollte man aber immer darauf achten, dass die Definitionen wirklich genau gleich sind, und keine feinen Unterschiede bestehen."
   ]
  },
  {
   "cell_type": "markdown",
   "metadata": {},
   "source": [
    "### Linkliste"
   ]
  },
  {
   "cell_type": "markdown",
   "metadata": {},
   "source": [
    "- [Foliensatz der Vorlesung](https://user.phil.hhu.de/~petersen/WiSe1819_mathGrundl/Petersen_math_grundl_11.pdf)\n",
    "\n",
    "Hier erscheint bald eine Liste mit nützlichen Links rund ums Thema. Bis dahin bedient euch am Besten [im Internet](https://duckduckgo.com/?q=Graphentheorie+skript&t=h_&ia=web) oder [in der ULB](https://katalog.ulb.hhu.de/Search/Results?lookfor=Graphentheorie&type=AllFields&limit=10&sort=relevance)."
   ]
  },
  {
   "cell_type": "code",
   "execution_count": null,
   "metadata": {},
   "outputs": [],
   "source": []
  }
 ],
 "metadata": {
  "kernelspec": {
   "display_name": "Python 3",
   "language": "python",
   "name": "python3"
  },
  "language_info": {
   "codemirror_mode": {
    "name": "ipython",
    "version": 3
   },
   "file_extension": ".py",
   "mimetype": "text/x-python",
   "name": "python",
   "nbconvert_exporter": "python",
   "pygments_lexer": "ipython3",
   "version": "3.6.4"
  }
 },
 "nbformat": 4,
 "nbformat_minor": 2
}
