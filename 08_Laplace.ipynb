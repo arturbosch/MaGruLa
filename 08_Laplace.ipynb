{
 "cells": [
  {
   "cell_type": "markdown",
   "metadata": {},
   "source": [
    "# Laplace-Räume"
   ]
  },
  {
   "cell_type": "markdown",
   "metadata": {},
   "source": [
    "![Folie LaplaceDef](Folien/08/slide-12.png)"
   ]
  },
  {
   "cell_type": "markdown",
   "metadata": {},
   "source": [
    "![Folie 13](Folien/08/slide-13.png)"
   ]
  },
  {
   "cell_type": "markdown",
   "metadata": {},
   "source": [
    "Achtung: Die Ergebnisse bilden hier einen Laplace-Raum, die Ereignisse natürlich nicht. Denn: Erst eine 4 und dann eine 3 zu würfeln hat die selbe Wahrscheinlichkeit wie erst eine 1 und dann eine 5. Aber: Die Wahrscheinlichkeit, dass die Augensumme 5 ist, ist höher als die Wahrscheinlichkeit für Augensumme 12."
   ]
  },
  {
   "cell_type": "markdown",
   "metadata": {},
   "source": [
    "# Geburtstag\n",
    "\n",
    "Was ist die Wahrscheinlichkeit, dass zwei von 30 Personen am gleichen Tag Geburtstag haben?\n",
    "\n",
    "Was ist die Wahrscheinlichkeit, dass keine zwei Personen am gleichen Tag Geburtstag haben?\n",
    "\n"
   ]
  },
  {
   "cell_type": "markdown",
   "metadata": {},
   "source": [
    "# Beispiel Wege im Gitter"
   ]
  },
  {
   "cell_type": "markdown",
   "metadata": {},
   "source": [
    "mit anderen Zahlen noch mal neu besprechen"
   ]
  },
  {
   "cell_type": "code",
   "execution_count": null,
   "metadata": {},
   "outputs": [],
   "source": []
  }
 ],
 "metadata": {
  "kernelspec": {
   "display_name": "Python 3",
   "language": "python",
   "name": "python3"
  },
  "language_info": {
   "codemirror_mode": {
    "name": "ipython",
    "version": 3
   },
   "file_extension": ".py",
   "mimetype": "text/x-python",
   "name": "python",
   "nbconvert_exporter": "python",
   "pygments_lexer": "ipython3",
   "version": "3.6.4"
  }
 },
 "nbformat": 4,
 "nbformat_minor": 2
}
