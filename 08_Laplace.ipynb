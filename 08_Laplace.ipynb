{
 "cells": [
  {
   "cell_type": "markdown",
   "metadata": {},
   "source": [
    "# Laplace-Räume"
   ]
  },
  {
   "cell_type": "markdown",
   "metadata": {},
   "source": [
    "![Folie LaplaceDef](Folien/08/slide-12.png)"
   ]
  },
  {
   "cell_type": "markdown",
   "metadata": {},
   "source": [
    "![Folie 13](Folien/08/slide-13.png)"
   ]
  },
  {
   "cell_type": "markdown",
   "metadata": {},
   "source": [
    "Achtung: Die Ergebnisse bilden hier einen Laplace-Raum, die Ereignisse natürlich nicht. Denn: Erst eine 4 und dann eine 3 zu würfeln hat die selbe Wahrscheinlichkeit wie erst eine 1 und dann eine 5. Aber: Die Wahrscheinlichkeit, dass die Augensumme 5 ist, ist höher als die Wahrscheinlichkeit für Augensumme 12."
   ]
  },
  {
   "cell_type": "markdown",
   "metadata": {},
   "source": [
    "# Geburtstag\n",
    "\n",
    "Was ist die Wahrscheinlichkeit, dass zwei von 30 Personen am gleichen Tag Geburtstag haben?\n",
    "\n",
    "Was ist die Wahrscheinlichkeit, dass keine zwei Personen am gleichen Tag Geburtstag haben?\n",
    "\n"
   ]
  },
  {
   "cell_type": "markdown",
   "metadata": {},
   "source": [
    "![Folie 165](Folien/08/slide-16.png)"
   ]
  },
  {
   "cell_type": "markdown",
   "metadata": {},
   "source": [
    "Merke: $\\Omega$ enthält Folgen, keine Mengen. Wenn die 1te Person am 1.1. Geburtstag hat und alle anderen Personen am 3.1., ist das die Folge $\\{1\\}\\times\\{3\\}^{29}= \\langle1,3,3,3,3,\\dots \\rangle$."
   ]
  },
  {
   "cell_type": "markdown",
   "metadata": {},
   "source": [
    "![Folie 166](Folien/08/slide-18.png)"
   ]
  },
  {
   "cell_type": "markdown",
   "metadata": {},
   "source": [
    "![Folie 167](Folien/08/slide-22.png)"
   ]
  },
  {
   "cell_type": "markdown",
   "metadata": {},
   "source": [
    "Warum gibt es $365*3644*363*\\dots*(365-29)$ Folgen, in denen sich kein Element wiederholt? Bei dem ersten Element kann man einen Tag aus 365 auswählen. Dieser darf jetzt nicht mehr in der Folge vorkommen, es bleiben noch 364 Tage für den zweiten Geburtstag, usw. \n",
    "\n",
    "Warum wird daraus der Bruch $\\frac{365!}{(365-30)!}$? Schauen wir uns ein Beispiel mit kleineren Zahlen zur Veranschaulichung an: \n",
    "\n",
    "$5*4*3=\\frac{5!}{(5-3)!}=\\frac{5!}{2!}=\\frac{5*4*3*2*1}{2*1}$. Das $2*1$ in Zähler und Nenner kürzt sich weg, übrig bleibt $5*4*3$.\n",
    "\n",
    "Auf der Folie fehlt ein Zwischenschritt: Die Wahrscheinlichkeit, dass alle 30 Personen an unterschiedlichen Tagen Geburtstag haben. Das ist die eben errechnete Anzahl von Möglichkeiten, so dass keine 2 der 30 Personen am selben Tag Geburtstag haben, geteilt durch die insgesamt mögliche Zahl von Folgen, sprich geteilt durch $|\\Omega|$. Hier die Rechnung Schritt für Schritt.\n",
    "\n",
    "Also: $P(\"verschieden\")=\\frac{\\frac{365!}{(365-30)!}}{|\\Omega|}\\frac{\\frac{365!}{(365-30)!}}{365^{30}}=\\frac{365!}{(365-30)!}:365^{30}=\\frac{365!}{365^{30}*(365-30)!}\\approx 0.29$"
   ]
  },
  {
   "cell_type": "markdown",
   "metadata": {},
   "source": [
    "# Beispiel Wege im Gitter"
   ]
  },
  {
   "cell_type": "markdown",
   "metadata": {},
   "source": [
    "mit anderen Zahlen noch mal neu besprechen"
   ]
  },
  {
   "cell_type": "code",
   "execution_count": null,
   "metadata": {},
   "outputs": [],
   "source": []
  }
 ],
 "metadata": {
  "kernelspec": {
   "display_name": "Python 3",
   "language": "python",
   "name": "python3"
  },
  "language_info": {
   "codemirror_mode": {
    "name": "ipython",
    "version": 3
   },
   "file_extension": ".py",
   "mimetype": "text/x-python",
   "name": "python",
   "nbconvert_exporter": "python",
   "pygments_lexer": "ipython3",
   "version": "3.6.4"
  }
 },
 "nbformat": 4,
 "nbformat_minor": 2
}
