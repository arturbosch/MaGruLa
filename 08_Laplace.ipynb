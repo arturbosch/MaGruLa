{
 "cells": [
  {
   "cell_type": "markdown",
   "metadata": {},
   "source": [
    "# Laplace-Räume"
   ]
  },
  {
   "cell_type": "markdown",
   "metadata": {},
   "source": [
    "![Folie LaplaceDef](Folien/08/slide-12.png)"
   ]
  },
  {
   "cell_type": "markdown",
   "metadata": {},
   "source": [
    "![Folie 13](Folien/08/slide-13.png)"
   ]
  },
  {
   "cell_type": "markdown",
   "metadata": {},
   "source": [
    "Achtung: Die Ergebnisse bilden hier einen Laplace-Raum, die Ereignisse natürlich nicht. Denn: Erst eine 4 und dann eine 3 zu würfeln hat die selbe Wahrscheinlichkeit wie erst eine 1 und dann eine 5. Aber: Die Wahrscheinlichkeit, dass die Augensumme 5 ist, ist höher als die Wahrscheinlichkeit für Augensumme 12."
   ]
  },
  {
   "cell_type": "markdown",
   "metadata": {},
   "source": [
    "# Geburtstag"
   ]
  },
  {
   "cell_type": "markdown",
   "metadata": {},
   "source": [
    "![Folie 165](Folien/08/slide-16.png)"
   ]
  },
  {
   "cell_type": "markdown",
   "metadata": {},
   "source": [
    "Merke: $\\Omega$ enthält geordnete Folgen, keine ungeordneten Mengen. Wenn z.B. die 1te Person am 1.1. Geburtstag hat und alle anderen Personen am 3.1., ist das die Folge $\\{1\\}\\times\\{3\\}^{29}= \\langle1,3,3,3,3,\\dots \\rangle$."
   ]
  },
  {
   "cell_type": "markdown",
   "metadata": {},
   "source": [
    "![Folie 166](Folien/08/slide-18.png)"
   ]
  },
  {
   "cell_type": "markdown",
   "metadata": {},
   "source": [
    "![Folie 167](Folien/08/slide-22.png)"
   ]
  },
  {
   "cell_type": "markdown",
   "metadata": {},
   "source": [
    "Warum gibt es $365*364*363*\\dots*(365-29)$ Folgen, in denen sich kein Element wiederholt? Bei dem ersten Element kann man einen Tag aus 365 auswählen. Dieser darf jetzt nicht mehr in der Folge vorkommen, es bleiben noch 364 Tage für den zweiten Geburtstag, usw. \n",
    "\n",
    "Warum wird daraus der Bruch $\\frac{365!}{(365-30)!}$? Schauen wir uns ein Beispiel mit kleineren Zahlen zur Veranschaulichung an: \n",
    "\n",
    "$5*4*3=\\frac{5!}{(5-3)!}=\\frac{5!}{2!}=\\frac{5*4*3*2*1}{2*1}$. Das $2*1$ in Zähler und Nenner kürzt sich weg, übrig bleibt $5*4*3$.\n",
    "\n",
    "Auf der Folie fehlt ein Zwischenschritt: Die Wahrscheinlichkeit, dass alle 30 Personen an unterschiedlichen Tagen Geburtstag haben. Das ist die eben errechnete Anzahl von Möglichkeiten, so dass keine 2 der 30 Personen am selben Tag Geburtstag haben, geteilt durch die insgesamt mögliche Zahl von Folgen, sprich geteilt durch $|\\Omega|$. Hier die Rechnung Schritt für Schritt.\n",
    "\n",
    "Also: $P(\"verschieden\")=\\frac{\\frac{365!}{(365-30)!}}{|\\Omega|}\\frac{\\frac{365!}{(365-30)!}}{365^{30}}=\\frac{365!}{(365-30)!}:365^{30}=\\frac{365!}{365^{30}*(365-30)!}\\approx 0.29$"
   ]
  },
  {
   "cell_type": "markdown",
   "metadata": {},
   "source": [
    "# Beispiel Wege im Gitter"
   ]
  },
  {
   "cell_type": "markdown",
   "metadata": {},
   "source": [
    "![Folie 169](Folien/08/slide-29.png)"
   ]
  },
  {
   "cell_type": "markdown",
   "metadata": {},
   "source": [
    "$P(A \\triangleright^{20} B)$ bezeichnet die Wahrscheinlichkeit, bei A zu starten und nach 20 Schritten bei B angelangt zu sein. Der Ergebnisraum $\\Omega$ ist also die Menge aller Folgen aus 20 Schritten: 20 mal hoch oder 20 mal nach rechts oder erst 10 mal hoch, dann 10 mal nach rechts oder erst 10 mal nach rechts und dann 10 mal hoch, usw. \n",
    "\n",
    "$|\\Omega|$ ist $2^{20}$. Hier ist ein kleiner Tippfehler auf der Folie: Statt $\\Omega$ im Nenner müsste es $|\\Omega|$ heißen. $|\\Omega|$ berechnet man genau so, wie man die Anzahl der Wörter über dem Alphabet $\\Sigma=\\{a,b\\}$ mit Länge 20 berechnet: $|\\Sigma|^{Wortlänge}$.\n",
    "\n",
    "$A \\triangleright^{20} B$ bezeicnet die Menge aller Folgen, die durch 20 Schritte von A nach B führen. Warum ist $|A \\triangleright^{20} B|$ ein Ziehen ohne Zurücklegen und ohne Reihenfolge? n ist 20, also die Anzahl der Schritte. Jeden dieser 20 Schritte machen wir ein mal (ohne Zurücklegen). Wir wählen 8 dieser Schritte aus, die nach oben führen sollen. Die restlichen Schritte führen nach rechts. Achtung: $\\binom{20}{8}=\\binom{20}{12}$. Es ist also egal, ob die Schritte nach rechts abgezählt werden oder die Schritte nach oben."
   ]
  },
  {
   "cell_type": "markdown",
   "metadata": {},
   "source": [
    "![Folie 170](Folien/08/slide-32.png)"
   ]
  },
  {
   "cell_type": "markdown",
   "metadata": {},
   "source": [
    "$125970$ ist die Anzahl aller Wege von A nach B (siehe oben). \n",
    "\n",
    "Berechnung der Anzahl der Wege von A nach B, die auf die Bombe treffen. Diese Wege werden als 2-geteilt betrachtet. Der erste Abschnitt führt von A zur Bombe. Der zweite Abschnitt führt von der Bombe nach B. Der erste Abschnitt hat eine Länge von 8 Schritten: 5 nach rechts, 3 nach oben. Der zweiite Abschnitt hat eine Länge von 12 Schritten: 7 nach rechts, 5 nach oben. Die Anzahl der Möglichkeiten für die einzelnen Abschnitte führt genau so berechnet wie der Weg von A nach B oben. Anschließend werden bei de Anzahlen miteinander multipliziert, um alle Wege von A nach B über die Bombe zu erhalten. \n",
    "\n"
   ]
  },
  {
   "cell_type": "markdown",
   "metadata": {},
   "source": [
    "![Folie 171](Folien/08/slide-34.png)"
   ]
  },
  {
   "cell_type": "markdown",
   "metadata": {},
   "source": [
    "**Unterschied zwischen der Frage auf Folie 170 und der Frage auf Folie 171**\n",
    "\n",
    "Die Grundmenge ist unterschiedlich. Bei der ersten Frage ist $\\Omega$ die Menge der Wege von A nach B, bei der zweiten Frage ist $\\Omega$ die Menge der Wege mit Länge 20. "
   ]
  },
  {
   "cell_type": "code",
   "execution_count": null,
   "metadata": {},
   "outputs": [],
   "source": []
  }
 ],
 "metadata": {
  "kernelspec": {
   "display_name": "Python 3",
   "language": "python",
   "name": "python3"
  },
  "language_info": {
   "codemirror_mode": {
    "name": "ipython",
    "version": 3
   },
   "file_extension": ".py",
   "mimetype": "text/x-python",
   "name": "python",
   "nbconvert_exporter": "python",
   "pygments_lexer": "ipython3",
   "version": "3.6.4"
  }
 },
 "nbformat": 4,
 "nbformat_minor": 2
}
