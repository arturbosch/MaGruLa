{
 "cells": [
  {
   "cell_type": "markdown",
   "metadata": {},
   "source": [
    "# Verbände"
   ]
  },
  {
   "cell_type": "markdown",
   "metadata": {},
   "source": [
    "![Folie Verbände](Folien/05/slide-27.png)"
   ]
  },
  {
   "cell_type": "markdown",
   "metadata": {},
   "source": []
  },
  {
   "cell_type": "markdown",
   "metadata": {},
   "source": [
    "### Beispiel Potenzmengenverband\n",
    "\n",
    "Sei $V_{Pot}=(Pot(\\{1,2,3\\}),\\cap,\\cup)$ der algebraisch definierte Potenzmengenverband. Unten wird erklärt, warum dieser algebraisch definierte Verband dem ordnungstheoretischen Verband $(Pot(\\{1,2,3\\}),\\subseteq)$ entspricht.\n",
    "\n",
    "**Absorptionsgesetze:** Für alle $a,b\\in Pot(\\{1,2,3\\})$ gilt das Absorptionsgesetz. Sei z.B. $a=\\{1,2\\},b=\\{2,3\\}$. Dann gilt $\\{1,2\\}\\cup(\\{1,2\\}\\cap\\{2,3\\})=\\{1,2\\}$ und $\\{1,2\\}\\cap(\\{1,2\\}\\cup\\{2,3\\})=\\{1,2\\}$"
   ]
  },
  {
   "cell_type": "markdown",
   "metadata": {},
   "source": [
    "![Folie Verbände Agebra und Ordnung](Folien/05/slide-28.png)"
   ]
  },
  {
   "cell_type": "markdown",
   "metadata": {},
   "source": [
    "Wir zeigen, dass die Definitionen zu algebraischem und ordnungstheoretischem Verband zum gleichen Ergebnis führen, indem wir in aus jedem algebraischen Verband einen ordnungstheoretischen Verband bilden können und umgekehrt. "
   ]
  },
  {
   "cell_type": "markdown",
   "metadata": {},
   "source": [
    "Wie sieht das konkret aus am Beispiel $(Pot(M),\\subseteq)$ und $(Pot(M),\\cup,\\cap)$?\n",
    "\n",
    "Nehmen wir an, $M=\\{1,2,3\\}$.\n",
    "Wir [hatten bereits gezeigt](04_Verbände.ipynb#Video-Infimum/Supremum), dass das Imfimum $\\land$ dem Schnitt $\\cap$ und das Supremum $\\lor$ der Vereinigung $\\cup$ entspricht.\n",
    "Da algebraische Verbände über Infimum und Supremum definiert sind, müssen wir die entsprechenden Operationen nur noch einsetzem. \n",
    "\n",
    "Andersherum ist es genau so. Nehmen wir $(Pot(M),\\cup,\\cap)$. Dann gilt: $a\\cap b = a$ genau dann, wenn $a\\subseteq b$. Zum Beispiel: $\\{1,2\\}\\cap \\{1,2,3\\}=\\{1,2\\}$ und $\\{1,2\\}\\subseteq \\{1,2,3\\}$. Was passiert mit der Operation $\\cup$ bzw. $\\lor$? \n",
    "Es gilt, folgend aus $a\\cap b = a\\leftrightarrow a\\subseteq b$:\n",
    "$$a \\subseteq b\\leftrightarrow a\\cup b = b$$, z.B. \n",
    "$$\\{1,2\\}\\subseteq \\{1,2,3\\}\\leftrightarrow\\{1,2\\}\\cup \\{1,2,3\\}=\\{1,2,3\\}$$\n",
    "\n",
    "Die Vereinigung ist also schon mit abgedeckt."
   ]
  },
  {
   "cell_type": "code",
   "execution_count": null,
   "metadata": {},
   "outputs": [],
   "source": []
  }
 ],
 "metadata": {
  "kernelspec": {
   "display_name": "Python 3",
   "language": "python",
   "name": "python3"
  },
  "language_info": {
   "codemirror_mode": {
    "name": "ipython",
    "version": 3
   },
   "file_extension": ".py",
   "mimetype": "text/x-python",
   "name": "python",
   "nbconvert_exporter": "python",
   "pygments_lexer": "ipython3",
   "version": "3.6.4"
  }
 },
 "nbformat": 4,
 "nbformat_minor": 2
}
