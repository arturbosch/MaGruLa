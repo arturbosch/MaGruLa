{
 "cells": [
  {
   "cell_type": "markdown",
   "metadata": {},
   "source": [
    "# Bedingte Wahrscheinlichkeit\n",
    "\n",
    "\n"
   ]
  },
  {
   "cell_type": "markdown",
   "metadata": {},
   "source": [
    "Bei der bedingten Wahrscheinlichkeit geht es darum, die Wahrscheinlichkeit für ein Ereignis zu berechnen, wenn man weiß, dass vor diesem Ereignis etwas bestimmtes anderes schon passiert ist. Dieses vorherige Ereignis hat aber nicht immer einen Einfluss auf das nächste Ereignis. Beispiel: Die Wahrscheinlichkeit, eine 6 zu würfeln, steigt nicht, wenn man vorher 2 mal eine 1 würfelt."
   ]
  },
  {
   "cell_type": "markdown",
   "metadata": {},
   "source": [
    "![Folie 174](Folien/08/slide-37.png)"
   ]
  },
  {
   "cell_type": "markdown",
   "metadata": {},
   "source": [
    "Merke: $\\mathscr{P}(\\Omega)$ oder eben $\\mathscr{Pot}(\\Omega)$ beinhaltet alle möglichen Ereignisse. Für alle Ereignisse $B$ kann also die Wahrscheinlichkeit berechnet werden, gegeben dass ein anderes Ereignis $A$ eintritt, direkt nachdem $B$ eingetreten ist. Das bezeichnet man dann als $P(A|B)$. $P(\\cdot |B)$ bezeichnet auf der Folie das Wahrscheinlichkeitsmaß, dass die Ereignisse aus $\\mathscr{P}(\\Omega)$ eintreten, gegeben dass ein Ereignis $B\\in \\mathscr{P}(\\Omega) eingetreten ist."
   ]
  },
  {
   "cell_type": "markdown",
   "metadata": {},
   "source": [
    "![Folie 175](Folien/08/slide-38.png)"
   ]
  },
  {
   "cell_type": "markdown",
   "metadata": {},
   "source": [
    "### Video zum Ziegenproblem"
   ]
  },
  {
   "cell_type": "markdown",
   "metadata": {},
   "source": [
    "<iframe width=\"560\" height=\"315\" src=\"https://www.youtube.com/embed/ugbWqWCcxrg\" frameborder=\"0\" allow=\"accelerometer; autoplay; encrypted-media; gyroscope; picture-in-picture\" allowfullscreen></iframe>"
   ]
  },
  {
   "cell_type": "markdown",
   "metadata": {},
   "source": [
    "## Anwendungsbeispiel Gesichtserkennung"
   ]
  },
  {
   "cell_type": "markdown",
   "metadata": {},
   "source": [
    "<video \n",
    " controls \n",
    " width=\"560\" \n",
    " height=\"315\" \n",
    " src=\"https://user.phil-fak.uni-duesseldorf.de/~petersen/WiSe1819_mathGrundl/Videos/08_01_Gesichtserkennung.mp4?autoplay=0\">\n",
    "</video>\n"
   ]
  },
  {
   "cell_type": "markdown",
   "metadata": {},
   "source": [
    "An einem Berliner Bahnhof wurde ein System zur Gesichtserkennung getestet. \n",
    "[In diesem Polizeibericht](https://www.bundespolizei.de/Web/DE/04Aktuelles/01Meldungen/2018/10/181011_abschlussbericht_gesichtserkennung.html) wurden die Ergebnisse veröffentlicht, mit denen im Video gerechnet wird. Die Rechnung folgt dem selben Prinzip wie das Beispiel zu Parasitic Gaps im Foliensatz."
   ]
  },
  {
   "cell_type": "markdown",
   "metadata": {},
   "source": [
    "## Gefangenenparadoxon"
   ]
  },
  {
   "cell_type": "markdown",
   "metadata": {},
   "source": [
    "![Folie Gefangenenparadoxon](Folien/08/slide-55.png)"
   ]
  },
  {
   "cell_type": "markdown",
   "metadata": {},
   "source": [
    "Zu diesem Beispiel gibt es einen hilfreichen [Wikipedia-Artikel](https://de.wikipedia.org/wiki/Gefangenenparadoxon)."
   ]
  },
  {
   "cell_type": "markdown",
   "metadata": {},
   "source": [
    "## Simpson'sches Paradoxon\n",
    "\n",
    "![Folie Berkeley](Folien/08/slide-56.png)\n",
    "\n",
    "Wird im [Mathe-Prisma der Uni Wuppertal](http://www.matheprisma.uni-wuppertal.de/Module/Parad/index.htm) erklärt. Dort gibt es auch ein paar weitere schöne Beispiele."
   ]
  },
  {
   "cell_type": "code",
   "execution_count": null,
   "metadata": {},
   "outputs": [],
   "source": []
  }
 ],
 "metadata": {
  "kernelspec": {
   "display_name": "Python 3",
   "language": "python",
   "name": "python3"
  },
  "language_info": {
   "codemirror_mode": {
    "name": "ipython",
    "version": 3
   },
   "file_extension": ".py",
   "mimetype": "text/x-python",
   "name": "python",
   "nbconvert_exporter": "python",
   "pygments_lexer": "ipython3",
   "version": "3.6.4"
  }
 },
 "nbformat": 4,
 "nbformat_minor": 2
}
